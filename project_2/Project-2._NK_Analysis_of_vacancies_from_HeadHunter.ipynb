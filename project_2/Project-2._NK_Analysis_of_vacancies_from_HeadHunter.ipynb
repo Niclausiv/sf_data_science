{
 "cells": [
  {
   "cell_type": "markdown",
   "id": "42289889-bd57-434e-9637-d3e354756316",
   "metadata": {
    "id": "42289889-bd57-434e-9637-d3e354756316"
   },
   "source": [
    "<center> <img src = https://raw.githubusercontent.com/AndreyRysistov/DatasetsForPandas/main/hh%20label.jpg alt=\"drawing\" style=\"width:400px;\">"
   ]
  },
  {
   "cell_type": "markdown",
   "id": "829cb75b-f14e-4ba8-9195-7ba929a7d656",
   "metadata": {
    "id": "829cb75b-f14e-4ba8-9195-7ba929a7d656",
    "tags": []
   },
   "source": [
    "# <center> Проект: Анализ вакансий из HeadHunter\n",
    "   "
   ]
  },
  {
   "cell_type": "code",
   "execution_count": 1,
   "id": "dccfde33-2452-43fb-a8a5-5c6ebc02a71d",
   "metadata": {
    "id": "dccfde33-2452-43fb-a8a5-5c6ebc02a71d"
   },
   "outputs": [],
   "source": [
    "import pandas as pd\n",
    "import psycopg2\n",
    "import warnings\n",
    "from bs4 import BeautifulSoup\n",
    "import requests\n",
    "import urllib.parse as req"
   ]
  },
  {
   "cell_type": "code",
   "execution_count": 2,
   "id": "5c2c68f7",
   "metadata": {},
   "outputs": [],
   "source": [
    "def pd_read_sql_query(sql, conn):\n",
    "    \"\"\" Функция преобразующая метода pd.read_sql_query(), поскольку этот метод\n",
    "    сопровождался выводом предупреждения о поддержке объектов DBAPI2.\n",
    "    \n",
    "    Args: \n",
    "    sql - SQL-запрос, который необходимо выполнить \n",
    "    сonn - SQLAlchemy connectable, str или sqlite3 соединение\n",
    "    \"\"\"\n",
    "    with warnings.catch_warnings():  # Отключаем warning\n",
    "        warnings.simplefilter('ignore')\n",
    "        return pd.read_sql_query(sql, conn)"
   ]
  },
  {
   "cell_type": "code",
   "execution_count": 3,
   "id": "oVKH4ehvf8Ay",
   "metadata": {
    "id": "oVKH4ehvf8Ay"
   },
   "outputs": [],
   "source": [
    "# параметры подключения из юнита 1. Работа с базой данных из Python"
   ]
  },
  {
   "cell_type": "code",
   "execution_count": 4,
   "id": "G4X_q8KBf7SF",
   "metadata": {
    "id": "G4X_q8KBf7SF"
   },
   "outputs": [],
   "source": [
    "connection = psycopg2.connect(\n",
    "    dbname=DBNAME,\n",
    "    user=USER,\n",
    "    host=HOST,\n",
    "    password=PASSWORD,\n",
    "    port=PORT\n",
    ")"
   ]
  },
  {
   "cell_type": "markdown",
   "id": "0dc6476b-7a00-44f1-ac93-6e3baed33a29",
   "metadata": {
    "id": "0dc6476b-7a00-44f1-ac93-6e3baed33a29"
   },
   "source": [
    "# Юнит 3. Предварительный анализ данных"
   ]
  },
  {
   "cell_type": "markdown",
   "id": "889782b6-8d1c-410e-8920-e57f27917c64",
   "metadata": {
    "id": "889782b6-8d1c-410e-8920-e57f27917c64"
   },
   "source": [
    "1. Напишите запрос, который посчитает количество вакансий в нашей базе (вакансии находятся в таблице vacancies). "
   ]
  },
  {
   "cell_type": "code",
   "execution_count": 5,
   "id": "bc39e68e-ed02-4ee2-9235-7258a2f867a8",
   "metadata": {
    "id": "bc39e68e-ed02-4ee2-9235-7258a2f867a8"
   },
   "outputs": [],
   "source": [
    "# текст запроса\n",
    "query_3_1 = f'''SELECT \n",
    "                    COUNT(v.id) AS count\n",
    "                FROM vacancies v\n",
    "            '''"
   ]
  },
  {
   "cell_type": "code",
   "execution_count": 6,
   "id": "7mAwtsk4hEHY",
   "metadata": {
    "id": "7mAwtsk4hEHY"
   },
   "outputs": [
    {
     "name": "stdout",
     "output_type": "stream",
     "text": [
      "Количество вакансий в базе: 49197\n"
     ]
    }
   ],
   "source": [
    "# результат запроса\n",
    "df_3_1 = pd_read_sql_query(query_3_1, connection)\n",
    "print('Количество вакансий в базе:', df_3_1.iloc[0, 0])"
   ]
  },
  {
   "cell_type": "markdown",
   "id": "b583485d-1f9e-494e-ada4-80ffff7c53d6",
   "metadata": {
    "id": "b583485d-1f9e-494e-ada4-80ffff7c53d6"
   },
   "source": [
    "2. Напишите запрос, который посчитает количество работодателей (таблица employers). "
   ]
  },
  {
   "cell_type": "code",
   "execution_count": 7,
   "id": "5408c52c-3407-4a63-b25b-1aafa2322d28",
   "metadata": {
    "id": "5408c52c-3407-4a63-b25b-1aafa2322d28"
   },
   "outputs": [],
   "source": [
    "# текст запроса\n",
    "query_3_2 = f'''SELECT \n",
    "                    COUNT(e.id) AS count\n",
    "                FROM employers e\n",
    "            '''"
   ]
  },
  {
   "cell_type": "code",
   "execution_count": 8,
   "id": "jVL4eshKhdqc",
   "metadata": {
    "id": "jVL4eshKhdqc"
   },
   "outputs": [
    {
     "name": "stdout",
     "output_type": "stream",
     "text": [
      "Количество работодателей: 23501\n"
     ]
    }
   ],
   "source": [
    "# результат запроса\n",
    "df_3_2 = pd_read_sql_query(query_3_2, connection)\n",
    "print('Количество работодателей:', df_3_2.iloc[0, 0])"
   ]
  },
  {
   "cell_type": "markdown",
   "id": "a2bfff1f-c975-4bf6-84be-2185d79dcb76",
   "metadata": {
    "id": "a2bfff1f-c975-4bf6-84be-2185d79dcb76"
   },
   "source": [
    "3. Посчитате с помощью запроса количество регионов (таблица areas)."
   ]
  },
  {
   "cell_type": "code",
   "execution_count": 9,
   "id": "1m8QJwBYhey6",
   "metadata": {
    "id": "1m8QJwBYhey6"
   },
   "outputs": [],
   "source": [
    "# текст запроса\n",
    "query_3_3 = f'''SELECT \n",
    "                    COUNT(a.id) AS count\n",
    "                FROM areas a\n",
    "            '''"
   ]
  },
  {
   "cell_type": "code",
   "execution_count": 10,
   "id": "EZsn9tlfhe7f",
   "metadata": {
    "id": "EZsn9tlfhe7f"
   },
   "outputs": [
    {
     "name": "stdout",
     "output_type": "stream",
     "text": [
      "Количество регионов: 1362\n"
     ]
    }
   ],
   "source": [
    "# результат запроса\n",
    "df_3_3 = pd_read_sql_query(query_3_3, connection)\n",
    "print('Количество регионов:', df_3_3.iloc[0, 0])"
   ]
  },
  {
   "cell_type": "markdown",
   "id": "41bb59f3-53cc-4a67-a5bc-bedf573955e4",
   "metadata": {
    "id": "41bb59f3-53cc-4a67-a5bc-bedf573955e4"
   },
   "source": [
    "4. Посчитате с помощью запроса количество сфер деятельности в базе (таблица industries)."
   ]
  },
  {
   "cell_type": "code",
   "execution_count": 11,
   "id": "d286cf4c-707b-4cd2-9190-7ab3587d04a1",
   "metadata": {
    "id": "d286cf4c-707b-4cd2-9190-7ab3587d04a1"
   },
   "outputs": [],
   "source": [
    "# текст запроса\n",
    "query_3_4 = f'''SELECT \n",
    "                    COUNT(i.id) AS count\n",
    "                FROM industries i\n",
    "            '''"
   ]
  },
  {
   "cell_type": "code",
   "execution_count": 12,
   "id": "JYAaoZ4qhfzW",
   "metadata": {
    "id": "JYAaoZ4qhfzW"
   },
   "outputs": [
    {
     "name": "stdout",
     "output_type": "stream",
     "text": [
      "Количество сфер деятельности: 294\n"
     ]
    }
   ],
   "source": [
    "# результат запроса\n",
    "df_3_4 = pd_read_sql_query(query_3_4, connection)\n",
    "print('Количество сфер деятельности:', df_3_4.iloc[0, 0])"
   ]
  },
  {
   "cell_type": "markdown",
   "id": "9a8a2181-6914-448b-85f1-38f5f18b8a93",
   "metadata": {
    "id": "9a8a2181-6914-448b-85f1-38f5f18b8a93"
   },
   "source": [
    "***"
   ]
  },
  {
   "cell_type": "markdown",
   "id": "4b4b6115",
   "metadata": {
    "id": "be4e9bd3-a4db-4a20-82fb-6b02fc2957e0"
   },
   "source": [
    "#### Выводы по предварительному анализу данных\n",
    "\n",
    "1. Количество вакансий (49197) превышает количество работодателей (23501). Это может указывать на то, что некоторые работодатели публикуют несколько вакансий.\n",
    "\n",
    "2. Количество регионов: 1362. Это означает,  что «регионом» в базе называются не только регионы РФ, но и города, страны. \n",
    "\n",
    "3. Количество сфер деятельности (294) также сравнительно невелико по сравнению с числом вакансий и работодателей. Это может указывать на то, что в базе данных представлены в основном популярные и широко распространенные сферы деятельности, а множество мелких и узкоспециализированных сфер не представлены."
   ]
  },
  {
   "cell_type": "markdown",
   "id": "8d62a9f3-f64e-4fe7-bdac-c4dffa16155e",
   "metadata": {
    "id": "8d62a9f3-f64e-4fe7-bdac-c4dffa16155e"
   },
   "source": [
    "# Юнит 4. Детальный анализ вакансий"
   ]
  },
  {
   "cell_type": "markdown",
   "id": "93053d3d-b284-481a-9cf7-012d7014c0e0",
   "metadata": {
    "id": "93053d3d-b284-481a-9cf7-012d7014c0e0"
   },
   "source": [
    "1. Напишите запрос, который позволит узнать, сколько (cnt) вакансий в каждом регионе (area).\n",
    "Отсортируйте по количеству вакансий в порядке убывания."
   ]
  },
  {
   "cell_type": "code",
   "execution_count": 13,
   "id": "3f069da6-fdc9-4ae7-b514-fafe2675efd3",
   "metadata": {
    "id": "3f069da6-fdc9-4ae7-b514-fafe2675efd3"
   },
   "outputs": [],
   "source": [
    "# текст запроса\n",
    "query_4_1 = f'''SELECT \n",
    "                    a.name area,\n",
    "                    COUNT(v.id) cnt\n",
    "                FROM areas a \n",
    "                    LEFT JOIN vacancies v ON a.id = v.area_id\n",
    "                GROUP BY area\n",
    "                ORDER BY cnt DESC \n",
    "                LIMIT 5\n",
    "            '''"
   ]
  },
  {
   "cell_type": "code",
   "execution_count": 14,
   "id": "P7QL86hrjhRJ",
   "metadata": {
    "id": "P7QL86hrjhRJ"
   },
   "outputs": [
    {
     "data": {
      "text/html": [
       "<div>\n",
       "<style scoped>\n",
       "    .dataframe tbody tr th:only-of-type {\n",
       "        vertical-align: middle;\n",
       "    }\n",
       "\n",
       "    .dataframe tbody tr th {\n",
       "        vertical-align: top;\n",
       "    }\n",
       "\n",
       "    .dataframe thead th {\n",
       "        text-align: right;\n",
       "    }\n",
       "</style>\n",
       "<table border=\"1\" class=\"dataframe\">\n",
       "  <thead>\n",
       "    <tr style=\"text-align: right;\">\n",
       "      <th></th>\n",
       "      <th>area</th>\n",
       "      <th>cnt</th>\n",
       "    </tr>\n",
       "  </thead>\n",
       "  <tbody>\n",
       "    <tr>\n",
       "      <th>0</th>\n",
       "      <td>Москва</td>\n",
       "      <td>5333</td>\n",
       "    </tr>\n",
       "    <tr>\n",
       "      <th>1</th>\n",
       "      <td>Санкт-Петербург</td>\n",
       "      <td>2851</td>\n",
       "    </tr>\n",
       "    <tr>\n",
       "      <th>2</th>\n",
       "      <td>Минск</td>\n",
       "      <td>2112</td>\n",
       "    </tr>\n",
       "    <tr>\n",
       "      <th>3</th>\n",
       "      <td>Новосибирск</td>\n",
       "      <td>2006</td>\n",
       "    </tr>\n",
       "    <tr>\n",
       "      <th>4</th>\n",
       "      <td>Алматы</td>\n",
       "      <td>1892</td>\n",
       "    </tr>\n",
       "  </tbody>\n",
       "</table>\n",
       "</div>"
      ],
      "text/plain": [
       "              area   cnt\n",
       "0           Москва  5333\n",
       "1  Санкт-Петербург  2851\n",
       "2            Минск  2112\n",
       "3      Новосибирск  2006\n",
       "4           Алматы  1892"
      ]
     },
     "metadata": {},
     "output_type": "display_data"
    }
   ],
   "source": [
    "# результат запроса\n",
    "df_4_1 = pd_read_sql_query(query_4_1, connection)\n",
    "display(df_4_1)"
   ]
  },
  {
   "cell_type": "markdown",
   "id": "4266f0b6-1646-492a-88b4-2f6a46502135",
   "metadata": {
    "id": "4266f0b6-1646-492a-88b4-2f6a46502135"
   },
   "source": [
    "2. Напишите запрос, чтобы определить у какого количества вакансий заполнено хотя бы одно из двух полей с зарплатой."
   ]
  },
  {
   "cell_type": "code",
   "execution_count": 15,
   "id": "0c44b350-72eb-4d65-8b54-a1fc449ba9fd",
   "metadata": {
    "id": "0c44b350-72eb-4d65-8b54-a1fc449ba9fd"
   },
   "outputs": [],
   "source": [
    "# текст запроса\n",
    "query_4_2 = f'''SELECT \n",
    "                    COUNT(v.id) cnt\n",
    "                FROM vacancies v \n",
    "                WHERE salary_from IS NOT NULL  OR salary_to IS NOT NULL\n",
    "            '''"
   ]
  },
  {
   "cell_type": "code",
   "execution_count": 16,
   "id": "rhvwaMDkoWTi",
   "metadata": {
    "id": "rhvwaMDkoWTi"
   },
   "outputs": [
    {
     "name": "stdout",
     "output_type": "stream",
     "text": [
      "Количество вакансий, где заполнено хотя бы одно из двух полей с зарплатой: 24073\n"
     ]
    }
   ],
   "source": [
    "# результат запроса\n",
    "df_4_2 = pd_read_sql_query(query_4_2, connection)\n",
    "print('Количество вакансий, где заполнено хотя бы одно из двух полей с зарплатой:', df_4_2.iloc[0, 0])"
   ]
  },
  {
   "cell_type": "markdown",
   "id": "635c4d5d-f323-4c66-b428-50a088120aa0",
   "metadata": {
    "id": "635c4d5d-f323-4c66-b428-50a088120aa0"
   },
   "source": [
    "3. Найдите средние значения для нижней и верхней границы зарплатной вилки. Округлите значения до целого."
   ]
  },
  {
   "cell_type": "code",
   "execution_count": 17,
   "id": "603cdbe4-0ec3-4106-8eaf-c73fcdd29165",
   "metadata": {
    "id": "603cdbe4-0ec3-4106-8eaf-c73fcdd29165"
   },
   "outputs": [],
   "source": [
    "# текст запроса\n",
    "query_4_3 = f'''SELECT \n",
    "                    ROUND(AVG(v.salary_from)) lower_salary, -- средние значения для нижней\n",
    "                    ROUND(AVG(v.salary_to)) upper_salary    -- и верхней границы зарплатной вилки\n",
    "                FROM vacancies v \n",
    "            '''"
   ]
  },
  {
   "cell_type": "code",
   "execution_count": 18,
   "id": "pswpAb66ovZZ",
   "metadata": {
    "id": "pswpAb66ovZZ"
   },
   "outputs": [
    {
     "data": {
      "text/html": [
       "<div>\n",
       "<style scoped>\n",
       "    .dataframe tbody tr th:only-of-type {\n",
       "        vertical-align: middle;\n",
       "    }\n",
       "\n",
       "    .dataframe tbody tr th {\n",
       "        vertical-align: top;\n",
       "    }\n",
       "\n",
       "    .dataframe thead th {\n",
       "        text-align: right;\n",
       "    }\n",
       "</style>\n",
       "<table border=\"1\" class=\"dataframe\">\n",
       "  <thead>\n",
       "    <tr style=\"text-align: right;\">\n",
       "      <th></th>\n",
       "      <th>lower_salary</th>\n",
       "      <th>upper_salary</th>\n",
       "    </tr>\n",
       "  </thead>\n",
       "  <tbody>\n",
       "    <tr>\n",
       "      <th>0</th>\n",
       "      <td>71065.0</td>\n",
       "      <td>110537.0</td>\n",
       "    </tr>\n",
       "  </tbody>\n",
       "</table>\n",
       "</div>"
      ],
      "text/plain": [
       "   lower_salary  upper_salary\n",
       "0       71065.0      110537.0"
      ]
     },
     "metadata": {},
     "output_type": "display_data"
    }
   ],
   "source": [
    "# результат запроса\n",
    "df_4_3 = pd_read_sql_query(query_4_3, connection)\n",
    "display(df_4_3)"
   ]
  },
  {
   "cell_type": "markdown",
   "id": "f3fdaec9-5fd3-4260-9cf5-1d7406b628a5",
   "metadata": {
    "id": "f3fdaec9-5fd3-4260-9cf5-1d7406b628a5"
   },
   "source": [
    "4. Напишите запрос, который выведет количество вакансий для каждого сочетания типа рабочего графика (schedule) и типа трудоустройства (employment), используемого в вакансиях. Результат отсортируйте по убыванию количества.\n"
   ]
  },
  {
   "cell_type": "code",
   "execution_count": 19,
   "id": "1ea710ec-871b-431e-9462-c7d0fd87011b",
   "metadata": {
    "id": "1ea710ec-871b-431e-9462-c7d0fd87011b"
   },
   "outputs": [],
   "source": [
    "# текст запроса\n",
    "query_4_4 = f'''SELECT \n",
    "                    v.schedule schedule,\n",
    "                    v.employment employment,\n",
    "                    COUNT(v.id)  cnt   -- количество вакансий\n",
    "                FROM vacancies v \n",
    "                GROUP BY schedule, employment\n",
    "                ORDER BY 3 DESC \n",
    "                OFFSET 1       --Какая пара находится на втором месте по популярности?\n",
    "                LIMIT 1 \n",
    "            '''"
   ]
  },
  {
   "cell_type": "code",
   "execution_count": 20,
   "id": "lGUVqavdo4JQ",
   "metadata": {
    "id": "lGUVqavdo4JQ"
   },
   "outputs": [
    {
     "data": {
      "text/html": [
       "<div>\n",
       "<style scoped>\n",
       "    .dataframe tbody tr th:only-of-type {\n",
       "        vertical-align: middle;\n",
       "    }\n",
       "\n",
       "    .dataframe tbody tr th {\n",
       "        vertical-align: top;\n",
       "    }\n",
       "\n",
       "    .dataframe thead th {\n",
       "        text-align: right;\n",
       "    }\n",
       "</style>\n",
       "<table border=\"1\" class=\"dataframe\">\n",
       "  <thead>\n",
       "    <tr style=\"text-align: right;\">\n",
       "      <th></th>\n",
       "      <th>schedule</th>\n",
       "      <th>employment</th>\n",
       "      <th>cnt</th>\n",
       "    </tr>\n",
       "  </thead>\n",
       "  <tbody>\n",
       "    <tr>\n",
       "      <th>0</th>\n",
       "      <td>Удаленная работа</td>\n",
       "      <td>Полная занятость</td>\n",
       "      <td>7802</td>\n",
       "    </tr>\n",
       "  </tbody>\n",
       "</table>\n",
       "</div>"
      ],
      "text/plain": [
       "           schedule        employment   cnt\n",
       "0  Удаленная работа  Полная занятость  7802"
      ]
     },
     "metadata": {},
     "output_type": "display_data"
    }
   ],
   "source": [
    "# результат запроса\n",
    "df_4_4 = pd_read_sql_query(query_4_4, connection)\n",
    "\n",
    "# Какая пара находится на втором месте по популярности?\n",
    "display(df_4_4)"
   ]
  },
  {
   "cell_type": "markdown",
   "id": "0136ffee-0ead-4a6b-b608-61d1c753a438",
   "metadata": {
    "id": "0136ffee-0ead-4a6b-b608-61d1c753a438"
   },
   "source": [
    "5. Напишите запрос, выводящий значения поля Требуемый опыт работы (experience) в порядке возрастания количества вакансий, в которых указан данный вариант опыта. "
   ]
  },
  {
   "cell_type": "code",
   "execution_count": 21,
   "id": "5b3a8e79-f7ab-4008-b767-12aea3a205ea",
   "metadata": {
    "id": "5b3a8e79-f7ab-4008-b767-12aea3a205ea"
   },
   "outputs": [],
   "source": [
    "# текст запроса\n",
    "query_4_5 = f'''\n",
    "                SELECT \n",
    "                    v.experience experience\n",
    "                FROM vacancies v\n",
    "                GROUP BY experience\n",
    "                ORDER BY COUNT(v.id) --в порядке возрастания количества вакансий\n",
    "            '''"
   ]
  },
  {
   "cell_type": "code",
   "execution_count": 22,
   "id": "3Is64Y-hpDpq",
   "metadata": {
    "id": "3Is64Y-hpDpq"
   },
   "outputs": [
    {
     "data": {
      "text/html": [
       "<div>\n",
       "<style scoped>\n",
       "    .dataframe tbody tr th:only-of-type {\n",
       "        vertical-align: middle;\n",
       "    }\n",
       "\n",
       "    .dataframe tbody tr th {\n",
       "        vertical-align: top;\n",
       "    }\n",
       "\n",
       "    .dataframe thead th {\n",
       "        text-align: right;\n",
       "    }\n",
       "</style>\n",
       "<table border=\"1\" class=\"dataframe\">\n",
       "  <thead>\n",
       "    <tr style=\"text-align: right;\">\n",
       "      <th></th>\n",
       "      <th>experience</th>\n",
       "    </tr>\n",
       "  </thead>\n",
       "  <tbody>\n",
       "    <tr>\n",
       "      <th>0</th>\n",
       "      <td>Более 6 лет</td>\n",
       "    </tr>\n",
       "    <tr>\n",
       "      <th>1</th>\n",
       "      <td>Нет опыта</td>\n",
       "    </tr>\n",
       "    <tr>\n",
       "      <th>2</th>\n",
       "      <td>От 3 до 6 лет</td>\n",
       "    </tr>\n",
       "    <tr>\n",
       "      <th>3</th>\n",
       "      <td>От 1 года до 3 лет</td>\n",
       "    </tr>\n",
       "  </tbody>\n",
       "</table>\n",
       "</div>"
      ],
      "text/plain": [
       "           experience\n",
       "0         Более 6 лет\n",
       "1           Нет опыта\n",
       "2       От 3 до 6 лет\n",
       "3  От 1 года до 3 лет"
      ]
     },
     "metadata": {},
     "output_type": "display_data"
    }
   ],
   "source": [
    "# результат запроса\n",
    "df_4_5 = pd_read_sql_query(query_4_5, connection)\n",
    "display(df_4_5)"
   ]
  },
  {
   "cell_type": "markdown",
   "id": "cb574c64",
   "metadata": {},
   "source": [
    "#### Дополнительное исследование"
   ]
  },
  {
   "cell_type": "markdown",
   "id": "b51661af",
   "metadata": {},
   "source": [
    "6. Посчитайте среднюю зарплату для всех вакансий в базе данных (таблица vacancies). В зарплатной вилке указана нижняя и верхняя границы оплаты труда. Найдите среднее значение этой вилки для всех вакансий.\n"
   ]
  },
  {
   "cell_type": "code",
   "execution_count": 23,
   "id": "2fa41d88",
   "metadata": {},
   "outputs": [],
   "source": [
    "# текст запроса\n",
    "query_4_6 = f'''\n",
    "                SELECT\n",
    "                    ROUND(AVG((salary_from + salary_to) / 2)) AS average_salary\n",
    "                FROM vacancies\n",
    "            '''"
   ]
  },
  {
   "cell_type": "code",
   "execution_count": 24,
   "id": "1f99b317",
   "metadata": {},
   "outputs": [
    {
     "name": "stdout",
     "output_type": "stream",
     "text": [
      "Средняя зарплата для всех вакансий в базе данных: 89074.0\n"
     ]
    }
   ],
   "source": [
    "# результат запроса\n",
    "df_4_6 = pd_read_sql_query(query_4_6, connection)\n",
    "print('Средняя зарплата для всех вакансий в базе данных:', df_4_6.iloc [0, 0])"
   ]
  },
  {
   "cell_type": "markdown",
   "id": "oq2b7n1QpIka",
   "metadata": {
    "id": "oq2b7n1QpIka"
   },
   "source": [
    "***"
   ]
  },
  {
   "cell_type": "markdown",
   "id": "9faa675d",
   "metadata": {
    "id": "e91f87ed-e25c-4f96-9f92-b642e8c0b4fa"
   },
   "source": [
    "####  Выводы по детальному анализу вакансий\n",
    "\n",
    "1. Самые популярные города по количеству вакансий - Москва, Санкт-Петербург, Минск, Новосибирск и Алматы, т.е. города из топ 3 по населению в РФ и столицы Беларуси и Казахстана. Это свидетельствует о том, что эти города являются крупным рынком труда с высоким спросом на различных специалистов.\n",
    "\n",
    "2. Примерно у половины вакансий (24073) заполнено хотя бы одно из полей с зарплатой.\n",
    "\n",
    "3. Средние значения для нижней и верхней границы зарплатной вилки составляют 71065 и 110537 рублей соответственно. Это позволяет оценить средний уровень зарплат на рынке труда в представленных вакансиях.\n",
    "\n",
    "4. Самый распространенный тип занятости - \"Полная занятость\", и среди них особенно популярны форматы \"Полный день\" и \"Удаленная работа\".\n",
    "\n",
    "5. Вакансий для специалистов с опытом от 3 до 6 лет больше всего, а вакансий для специалистов с опытом от 3 до 6 лет в два раза больше, чем вакансий совсем без опыта\n",
    " "
   ]
  },
  {
   "cell_type": "markdown",
   "id": "7ea20ab6-04a7-40a0-adec-443a0e5a42c3",
   "metadata": {
    "id": "7ea20ab6-04a7-40a0-adec-443a0e5a42c3"
   },
   "source": [
    "# Юнит 5. Анализ работодателей"
   ]
  },
  {
   "cell_type": "markdown",
   "id": "968aed80-74ef-4ffb-b5bf-c65b84e9caea",
   "metadata": {
    "id": "968aed80-74ef-4ffb-b5bf-c65b84e9caea"
   },
   "source": [
    "1. Напишите запрос, который позволит узнать, какие работодатели находятся на первом и пятом месте по количеству вакансий."
   ]
  },
  {
   "cell_type": "code",
   "execution_count": 25,
   "id": "f2d62796-d400-4ec1-a675-88112739a50e",
   "metadata": {
    "id": "f2d62796-d400-4ec1-a675-88112739a50e"
   },
   "outputs": [],
   "source": [
    "# текст запроса\n",
    "query_5_1 = f'''\n",
    "               SELECT \n",
    "                    e.name employer,   -- работодатели\n",
    "                    COUNT(v.id) cnt    -- количество вакансий\n",
    "                FROM employers e \n",
    "                    LEFT JOIN vacancies v ON e.id = v.employer_id\n",
    "                GROUP BY employer\n",
    "                ORDER BY COUNT(v.id) DESC \n",
    "                LIMIT 5                -- топ 5\n",
    "\n",
    "            '''"
   ]
  },
  {
   "cell_type": "code",
   "execution_count": 26,
   "id": "64tOMkAxqkQk",
   "metadata": {
    "id": "64tOMkAxqkQk"
   },
   "outputs": [
    {
     "data": {
      "text/html": [
       "<div>\n",
       "<style scoped>\n",
       "    .dataframe tbody tr th:only-of-type {\n",
       "        vertical-align: middle;\n",
       "    }\n",
       "\n",
       "    .dataframe tbody tr th {\n",
       "        vertical-align: top;\n",
       "    }\n",
       "\n",
       "    .dataframe thead th {\n",
       "        text-align: right;\n",
       "    }\n",
       "</style>\n",
       "<table border=\"1\" class=\"dataframe\">\n",
       "  <thead>\n",
       "    <tr style=\"text-align: right;\">\n",
       "      <th></th>\n",
       "      <th>employer</th>\n",
       "      <th>cnt</th>\n",
       "    </tr>\n",
       "  </thead>\n",
       "  <tbody>\n",
       "    <tr>\n",
       "      <th>0</th>\n",
       "      <td>Яндекс</td>\n",
       "      <td>1933</td>\n",
       "    </tr>\n",
       "    <tr>\n",
       "      <th>1</th>\n",
       "      <td>Ростелеком</td>\n",
       "      <td>491</td>\n",
       "    </tr>\n",
       "    <tr>\n",
       "      <th>2</th>\n",
       "      <td>Тинькофф</td>\n",
       "      <td>444</td>\n",
       "    </tr>\n",
       "    <tr>\n",
       "      <th>3</th>\n",
       "      <td>СБЕР</td>\n",
       "      <td>428</td>\n",
       "    </tr>\n",
       "    <tr>\n",
       "      <th>4</th>\n",
       "      <td>Газпром нефть</td>\n",
       "      <td>331</td>\n",
       "    </tr>\n",
       "  </tbody>\n",
       "</table>\n",
       "</div>"
      ],
      "text/plain": [
       "        employer   cnt\n",
       "0         Яндекс  1933\n",
       "1     Ростелеком   491\n",
       "2       Тинькофф   444\n",
       "3           СБЕР   428\n",
       "4  Газпром нефть   331"
      ]
     },
     "metadata": {},
     "output_type": "display_data"
    }
   ],
   "source": [
    "# результат запроса\n",
    "df_5_1 = pd_read_sql_query(query_5_1, connection)\n",
    "display(df_5_1)"
   ]
  },
  {
   "cell_type": "markdown",
   "id": "68377cfc-b378-43dc-ab7d-1195abf2c515",
   "metadata": {
    "id": "68377cfc-b378-43dc-ab7d-1195abf2c515"
   },
   "source": [
    "2. Напишите запрос, который для каждого региона выведет количество работодателей и вакансий в нём.\n",
    "Среди регионов, в которых нет вакансий, найдите тот, в котором наибольшее количество работодателей.\n"
   ]
  },
  {
   "cell_type": "code",
   "execution_count": 27,
   "id": "dd7df27a-e3e8-412e-a21a-5d389b71e891",
   "metadata": {
    "id": "dd7df27a-e3e8-412e-a21a-5d389b71e891"
   },
   "outputs": [],
   "source": [
    "# текст запроса\n",
    "query_5_2 = f'''\n",
    "               SELECT \n",
    "                    a.name area_name,  -- регион\n",
    "                    COUNT(e.id) employers,   -- количество работодателнй\n",
    "                    COUNT(v.id) vacancies    -- количество вакансий\n",
    "               FROM areas a \n",
    "                   LEFT JOIN employers e ON a.id = e.area\n",
    "                   LEFT JOIN vacancies v ON a.id = v.area_id\n",
    "               GROUP BY area_name\n",
    "               HAVING COUNT(v.id) = 0\n",
    "               ORDER BY COUNT(e.id) DESC\n",
    "               LIMIT 5\n",
    "            '''"
   ]
  },
  {
   "cell_type": "code",
   "execution_count": 28,
   "id": "x1ikWbydrbf6",
   "metadata": {
    "id": "x1ikWbydrbf6"
   },
   "outputs": [
    {
     "data": {
      "text/html": [
       "<div>\n",
       "<style scoped>\n",
       "    .dataframe tbody tr th:only-of-type {\n",
       "        vertical-align: middle;\n",
       "    }\n",
       "\n",
       "    .dataframe tbody tr th {\n",
       "        vertical-align: top;\n",
       "    }\n",
       "\n",
       "    .dataframe thead th {\n",
       "        text-align: right;\n",
       "    }\n",
       "</style>\n",
       "<table border=\"1\" class=\"dataframe\">\n",
       "  <thead>\n",
       "    <tr style=\"text-align: right;\">\n",
       "      <th></th>\n",
       "      <th>area_name</th>\n",
       "      <th>employers</th>\n",
       "      <th>vacancies</th>\n",
       "    </tr>\n",
       "  </thead>\n",
       "  <tbody>\n",
       "    <tr>\n",
       "      <th>0</th>\n",
       "      <td>Россия</td>\n",
       "      <td>410</td>\n",
       "      <td>0</td>\n",
       "    </tr>\n",
       "    <tr>\n",
       "      <th>1</th>\n",
       "      <td>Казахстан</td>\n",
       "      <td>207</td>\n",
       "      <td>0</td>\n",
       "    </tr>\n",
       "    <tr>\n",
       "      <th>2</th>\n",
       "      <td>Московская область</td>\n",
       "      <td>75</td>\n",
       "      <td>0</td>\n",
       "    </tr>\n",
       "    <tr>\n",
       "      <th>3</th>\n",
       "      <td>Краснодарский край</td>\n",
       "      <td>19</td>\n",
       "      <td>0</td>\n",
       "    </tr>\n",
       "    <tr>\n",
       "      <th>4</th>\n",
       "      <td>Беларусь</td>\n",
       "      <td>18</td>\n",
       "      <td>0</td>\n",
       "    </tr>\n",
       "  </tbody>\n",
       "</table>\n",
       "</div>"
      ],
      "text/plain": [
       "            area_name  employers  vacancies\n",
       "0              Россия        410          0\n",
       "1           Казахстан        207          0\n",
       "2  Московская область         75          0\n",
       "3  Краснодарский край         19          0\n",
       "4            Беларусь         18          0"
      ]
     },
     "metadata": {},
     "output_type": "display_data"
    },
    {
     "name": "stdout",
     "output_type": "stream",
     "text": [
      "Регион в котором больше всего работодателей: Россия\n"
     ]
    }
   ],
   "source": [
    "# результат запроса\n",
    "df_5_2 = pd_read_sql_query(query_5_2, connection)\n",
    "display(df_5_2)\n",
    "print('Регион в котором больше всего работодателей:', df_5_2.iloc [0, 0])"
   ]
  },
  {
   "cell_type": "markdown",
   "id": "f2fe0acb-ab1a-4e15-9326-2560e22d73c1",
   "metadata": {
    "id": "f2fe0acb-ab1a-4e15-9326-2560e22d73c1"
   },
   "source": [
    "3. Для каждого работодателя посчитайте количество регионов, в которых он публикует свои вакансии. Отсортируйте результат по убыванию количества.\n"
   ]
  },
  {
   "cell_type": "code",
   "execution_count": 29,
   "id": "6271f8ad-bd2e-4196-ae4a-5b39c4c1010e",
   "metadata": {
    "id": "6271f8ad-bd2e-4196-ae4a-5b39c4c1010e"
   },
   "outputs": [],
   "source": [
    "# текст запроса\n",
    "query_5_3 = f'''\n",
    "               SELECT \n",
    "                   e.name employer,                   -- работодатель\n",
    "                   COUNT(DISTINCT v.area_id) areas    -- количество регионов\n",
    "                FROM  employers e\n",
    "                    LEFT JOIN vacancies v ON e.id = v.employer_id\n",
    "                GROUP BY employer\n",
    "                ORDER BY areas DESC\n",
    "                LIMIT 1\n",
    "            '''"
   ]
  },
  {
   "cell_type": "code",
   "execution_count": 30,
   "id": "1EIvX3HasH4F",
   "metadata": {
    "id": "1EIvX3HasH4F"
   },
   "outputs": [
    {
     "data": {
      "text/html": [
       "<div>\n",
       "<style scoped>\n",
       "    .dataframe tbody tr th:only-of-type {\n",
       "        vertical-align: middle;\n",
       "    }\n",
       "\n",
       "    .dataframe tbody tr th {\n",
       "        vertical-align: top;\n",
       "    }\n",
       "\n",
       "    .dataframe thead th {\n",
       "        text-align: right;\n",
       "    }\n",
       "</style>\n",
       "<table border=\"1\" class=\"dataframe\">\n",
       "  <thead>\n",
       "    <tr style=\"text-align: right;\">\n",
       "      <th></th>\n",
       "      <th>employer</th>\n",
       "      <th>areas</th>\n",
       "    </tr>\n",
       "  </thead>\n",
       "  <tbody>\n",
       "    <tr>\n",
       "      <th>0</th>\n",
       "      <td>Яндекс</td>\n",
       "      <td>181</td>\n",
       "    </tr>\n",
       "  </tbody>\n",
       "</table>\n",
       "</div>"
      ],
      "text/plain": [
       "  employer  areas\n",
       "0   Яндекс    181"
      ]
     },
     "metadata": {},
     "output_type": "display_data"
    }
   ],
   "source": [
    "# результат запроса\n",
    "df_5_3 = pd_read_sql_query(query_5_3, connection)\n",
    "display(df_5_3)"
   ]
  },
  {
   "cell_type": "markdown",
   "id": "eab2206d-d95b-468b-8e5f-34381abf0ce7",
   "metadata": {
    "id": "eab2206d-d95b-468b-8e5f-34381abf0ce7"
   },
   "source": [
    "4. Напишите запрос для подсчёта количества работодателей, у которых не указана сфера деятельности. "
   ]
  },
  {
   "cell_type": "code",
   "execution_count": 31,
   "id": "80defb23-bfb1-4a18-8be6-bf36aa7165d5",
   "metadata": {
    "id": "80defb23-bfb1-4a18-8be6-bf36aa7165d5"
   },
   "outputs": [],
   "source": [
    "# текст запроса\n",
    "query_5_4 = f'''\n",
    "               SELECT \n",
    "                   COUNT(e.id) employers\n",
    "                FROM  employers e\n",
    "                    LEFT JOIN employers_industries ei ON e.id = ei.employer_id\n",
    "                WHERE ei.industry_id IS NULL\n",
    "            '''"
   ]
  },
  {
   "cell_type": "code",
   "execution_count": 32,
   "id": "Dp_yCx6ysQSu",
   "metadata": {
    "id": "Dp_yCx6ysQSu"
   },
   "outputs": [
    {
     "name": "stdout",
     "output_type": "stream",
     "text": [
      "Количество работодателей, у которых не указана сфера деятельности: 8419\n"
     ]
    }
   ],
   "source": [
    "# результат запроса\n",
    "df_5_4 = pd_read_sql_query(query_5_4, connection)\n",
    "print('Количество работодателей, у которых не указана сфера деятельности:', df_5_4.iloc [0, 0])"
   ]
  },
  {
   "cell_type": "markdown",
   "id": "0112af31-f6b0-4e3b-82ab-71296e752e5e",
   "metadata": {
    "id": "0112af31-f6b0-4e3b-82ab-71296e752e5e"
   },
   "source": [
    "5. Напишите запрос, чтобы узнать название компании, находящейся на третьем месте в алфавитном списке (по названию) компаний, у которых указано четыре сферы деятельности. "
   ]
  },
  {
   "cell_type": "code",
   "execution_count": 33,
   "id": "973b0cfc-a972-470a-8b4a-68744ef220c4",
   "metadata": {
    "id": "973b0cfc-a972-470a-8b4a-68744ef220c4"
   },
   "outputs": [],
   "source": [
    "# текст запроса\n",
    "query_5_5 = f'''\n",
    "                SELECT \n",
    "                    e.name employer\n",
    "                   -- COUNT(ei.industry_id) num_industries\n",
    "                FROM employers e \n",
    "                    LEFT JOIN employers_industries ei ON e.id = ei.employer_id\n",
    "                GROUP BY e.name\n",
    "                HAVING COUNT(ei.industry_id) = 4\n",
    "                ORDER BY employer\n",
    "                OFFSET 2 \n",
    "                LIMIT 1\n",
    "            '''"
   ]
  },
  {
   "cell_type": "code",
   "execution_count": 34,
   "id": "xsPtpp8EsaED",
   "metadata": {
    "id": "xsPtpp8EsaED"
   },
   "outputs": [
    {
     "name": "stdout",
     "output_type": "stream",
     "text": [
      "Компания на третьем месте в списке, у которых указано четыре сферы деятельности: 2ГИС\n"
     ]
    }
   ],
   "source": [
    "# результат запроса\n",
    "df_5_5 = pd_read_sql_query(query_5_5, connection)\n",
    "print('Компания на третьем месте в списке, у которых указано четыре сферы деятельности:', df_5_5.iloc[0, 0])"
   ]
  },
  {
   "cell_type": "markdown",
   "id": "3bfcfdaf-755d-4d2b-8ed8-326201dc07ab",
   "metadata": {
    "id": "3bfcfdaf-755d-4d2b-8ed8-326201dc07ab"
   },
   "source": [
    "6. С помощью запроса выясните, у какого количества работодателей в качестве сферы деятельности указана \"Разработка программного обеспечения\".\n"
   ]
  },
  {
   "cell_type": "code",
   "execution_count": 35,
   "id": "ad3f270f-2991-47eb-929b-e8f88a55b0d1",
   "metadata": {
    "id": "ad3f270f-2991-47eb-929b-e8f88a55b0d1"
   },
   "outputs": [],
   "source": [
    "# текст запроса\n",
    "query_5_6 = f'''\n",
    "                SELECT \n",
    "                    COUNT(ei.employer_id) num_employers\n",
    "                FROM employers_industries ei \n",
    "                   LEFT JOIN industries i ON ei.industry_id = i.id \n",
    "                WHERE i.name = 'Разработка программного обеспечения'\n",
    "            '''"
   ]
  },
  {
   "cell_type": "code",
   "execution_count": 36,
   "id": "H72qxWM0shPR",
   "metadata": {
    "id": "H72qxWM0shPR"
   },
   "outputs": [
    {
     "name": "stdout",
     "output_type": "stream",
     "text": [
      "Количество работодателей, где в качестве сферы деятельности указана \"Разработка программного обеспечения\": 3553\n"
     ]
    }
   ],
   "source": [
    "# результат запроса\n",
    "df_5_6 = pd_read_sql_query(query_5_6, connection)\n",
    "print('Количество работодателей, где в качестве сферы деятельности указана \\\n",
    "\"Разработка программного обеспечения\":', df_5_6.iloc [0, 0])"
   ]
  },
  {
   "cell_type": "markdown",
   "id": "7b02bb86-0546-40fb-94a4-242f050a5c57",
   "metadata": {
    "id": "7b02bb86-0546-40fb-94a4-242f050a5c57"
   },
   "source": [
    "7. Для компании «Яндекс» выведите список регионов-миллионников, в которых представлены вакансии компании, вместе с количеством вакансий в этих регионах. Также добавьте строку Total с общим количеством вакансий компании. Результат отсортируйте по возрастанию количества.\n",
    "\n",
    "Список городов-милионников надо взять [отсюда](https://ru.wikipedia.org/wiki/%D0%93%D0%BE%D1%80%D0%BE%D0%B4%D0%B0-%D0%BC%D0%B8%D0%BB%D0%BB%D0%B8%D0%BE%D0%BD%D0%B5%D1%80%D1%8B_%D0%A0%D0%BE%D1%81%D1%81%D0%B8%D0%B8). \n",
    "\n",
    "Если возникнут трудности с этим задание посмотрите материалы модуля  PYTHON-17. Как получать данные из веб-источников и API. "
   ]
  },
  {
   "cell_type": "code",
   "execution_count": 37,
   "id": "ZdfrL6gIs1Pn",
   "metadata": {
    "id": "ZdfrL6gIs1Pn"
   },
   "outputs": [
    {
     "name": "stdout",
     "output_type": "stream",
     "text": [
      "('Москва', 'Санкт-Петербург', 'Новосибирск', 'Екатеринбург', 'Казань', 'Нижний Новгород', 'Красноярск', 'Челябинск', 'Самара', 'Уфа', 'Ростов-на-Дону', 'Краснодар', 'Омск', 'Воронеж', 'Пермь', 'Волгоград')\n"
     ]
    }
   ],
   "source": [
    "# Код для получения списка городов-милионников по ссылке из Википедии\n",
    "url = 'https://ru.wikipedia.org/wiki/%D0%93%D0%BE%D1%80%D0%BE%' +\\\n",
    "      'D0%B4%D0%B0-%D0%BC%D0%B8%D0%BB%D0%BB%D0%B8%D0%BE%D0%BD%' +\\\n",
    "      'D0%B5%D1%80%D1%8B_%D0%A0%D0%BE%D1%81%D1%81%D0%B8%D0%B8'\n",
    "\n",
    "# Отправляем GET-запрос к указанному URL и получаем ответ (HTML-код страницы)\n",
    "response = requests.get(url)\n",
    "\n",
    "# Создаем объект BeautifulSoup \n",
    "# response.text содержит содержимое ответа (HTML-код)\n",
    "soup = BeautifulSoup(response.text, 'html.parser')\n",
    "\n",
    "# Используем селектор, чтобы найти все строки (теги <tr>) во второй таблице (<table>) на странице.\n",
    "# С помощью генератора списка извлекаем названия городов-милионников из атрибута \n",
    "# 'title' элементов <a> в каждой строке.\n",
    "# С помощью [1:] исключаем первую строку, которая обычно содержит заголовки столбцов таблицы.\n",
    "# Затем преобразуем полученный список в кортеж (tuple).\n",
    "cities = tuple([row.find('a')['title']\n",
    "               for row in soup.select('table:nth-of-type(2) tr')[1:]])\n",
    "\n",
    "print(cities)"
   ]
  },
  {
   "cell_type": "code",
   "execution_count": 38,
   "id": "5a0e32a4-e68a-4365-8a39-2fe24c542c36",
   "metadata": {
    "id": "5a0e32a4-e68a-4365-8a39-2fe24c542c36"
   },
   "outputs": [],
   "source": [
    "# текст запроса\n",
    "query_5_7 = f'''\n",
    "                WITH temp AS (SELECT \n",
    "                    a.name area_name,\n",
    "                    COUNT(v.id) cnt\n",
    "                FROM areas a \n",
    "                    LEFT JOIN vacancies v  ON a.id = v.area_id \n",
    "                    LEFT JOIN employers e  ON v.employer_id = e.id\n",
    "                WHERE e.name = 'Яндекс'\n",
    "                GROUP BY a.name\n",
    "                HAVING a.name IN {cities}\n",
    "                ORDER BY cnt DESC)\n",
    "                SELECT * FROM temp\n",
    "                UNION ALL \n",
    "                SELECT 'Total', SUM(cnt) FROM temp\n",
    "             '''"
   ]
  },
  {
   "cell_type": "code",
   "execution_count": 39,
   "id": "ttPhiO1rsvPq",
   "metadata": {
    "id": "ttPhiO1rsvPq"
   },
   "outputs": [
    {
     "data": {
      "text/html": [
       "<div>\n",
       "<style scoped>\n",
       "    .dataframe tbody tr th:only-of-type {\n",
       "        vertical-align: middle;\n",
       "    }\n",
       "\n",
       "    .dataframe tbody tr th {\n",
       "        vertical-align: top;\n",
       "    }\n",
       "\n",
       "    .dataframe thead th {\n",
       "        text-align: right;\n",
       "    }\n",
       "</style>\n",
       "<table border=\"1\" class=\"dataframe\">\n",
       "  <thead>\n",
       "    <tr style=\"text-align: right;\">\n",
       "      <th></th>\n",
       "      <th>area_name</th>\n",
       "      <th>cnt</th>\n",
       "    </tr>\n",
       "  </thead>\n",
       "  <tbody>\n",
       "    <tr>\n",
       "      <th>0</th>\n",
       "      <td>Москва</td>\n",
       "      <td>54.0</td>\n",
       "    </tr>\n",
       "    <tr>\n",
       "      <th>1</th>\n",
       "      <td>Санкт-Петербург</td>\n",
       "      <td>42.0</td>\n",
       "    </tr>\n",
       "    <tr>\n",
       "      <th>2</th>\n",
       "      <td>Екатеринбург</td>\n",
       "      <td>39.0</td>\n",
       "    </tr>\n",
       "    <tr>\n",
       "      <th>3</th>\n",
       "      <td>Нижний Новгород</td>\n",
       "      <td>36.0</td>\n",
       "    </tr>\n",
       "    <tr>\n",
       "      <th>4</th>\n",
       "      <td>Новосибирск</td>\n",
       "      <td>35.0</td>\n",
       "    </tr>\n",
       "    <tr>\n",
       "      <th>5</th>\n",
       "      <td>Воронеж</td>\n",
       "      <td>32.0</td>\n",
       "    </tr>\n",
       "    <tr>\n",
       "      <th>6</th>\n",
       "      <td>Краснодар</td>\n",
       "      <td>30.0</td>\n",
       "    </tr>\n",
       "    <tr>\n",
       "      <th>7</th>\n",
       "      <td>Самара</td>\n",
       "      <td>26.0</td>\n",
       "    </tr>\n",
       "    <tr>\n",
       "      <th>8</th>\n",
       "      <td>Уфа</td>\n",
       "      <td>26.0</td>\n",
       "    </tr>\n",
       "    <tr>\n",
       "      <th>9</th>\n",
       "      <td>Казань</td>\n",
       "      <td>25.0</td>\n",
       "    </tr>\n",
       "    <tr>\n",
       "      <th>10</th>\n",
       "      <td>Пермь</td>\n",
       "      <td>25.0</td>\n",
       "    </tr>\n",
       "    <tr>\n",
       "      <th>11</th>\n",
       "      <td>Ростов-на-Дону</td>\n",
       "      <td>25.0</td>\n",
       "    </tr>\n",
       "    <tr>\n",
       "      <th>12</th>\n",
       "      <td>Волгоград</td>\n",
       "      <td>24.0</td>\n",
       "    </tr>\n",
       "    <tr>\n",
       "      <th>13</th>\n",
       "      <td>Красноярск</td>\n",
       "      <td>23.0</td>\n",
       "    </tr>\n",
       "    <tr>\n",
       "      <th>14</th>\n",
       "      <td>Челябинск</td>\n",
       "      <td>22.0</td>\n",
       "    </tr>\n",
       "    <tr>\n",
       "      <th>15</th>\n",
       "      <td>Омск</td>\n",
       "      <td>21.0</td>\n",
       "    </tr>\n",
       "    <tr>\n",
       "      <th>16</th>\n",
       "      <td>Total</td>\n",
       "      <td>485.0</td>\n",
       "    </tr>\n",
       "  </tbody>\n",
       "</table>\n",
       "</div>"
      ],
      "text/plain": [
       "          area_name    cnt\n",
       "0            Москва   54.0\n",
       "1   Санкт-Петербург   42.0\n",
       "2      Екатеринбург   39.0\n",
       "3   Нижний Новгород   36.0\n",
       "4       Новосибирск   35.0\n",
       "5           Воронеж   32.0\n",
       "6         Краснодар   30.0\n",
       "7            Самара   26.0\n",
       "8               Уфа   26.0\n",
       "9            Казань   25.0\n",
       "10            Пермь   25.0\n",
       "11   Ростов-на-Дону   25.0\n",
       "12        Волгоград   24.0\n",
       "13       Красноярск   23.0\n",
       "14        Челябинск   22.0\n",
       "15             Омск   21.0\n",
       "16            Total  485.0"
      ]
     },
     "metadata": {},
     "output_type": "display_data"
    }
   ],
   "source": [
    "# результат запроса\n",
    "df_5_7 = pd_read_sql_query(query_5_7, connection)\n",
    "display(df_5_7)"
   ]
  },
  {
   "cell_type": "markdown",
   "id": "89c368a8",
   "metadata": {},
   "source": [
    "#### Дополнительное исследование"
   ]
  },
  {
   "cell_type": "markdown",
   "id": "ec255e8d",
   "metadata": {},
   "source": [
    "8. Найдите топ-5 работодателей, предлагающих самые высокие зарплаты вакансий с указанием зарплатной вилки (salary_from и salary_to). Выведите название работодателя и среднее значение верхней границы зарплатной вилки."
   ]
  },
  {
   "cell_type": "code",
   "execution_count": 40,
   "id": "423dbb53",
   "metadata": {},
   "outputs": [],
   "source": [
    "# текст запроса\n",
    "query_5_8 = f'''\n",
    "                SELECT \n",
    "                    e.name AS employer,\n",
    "                    ROUND(AVG(v.salary_to)) AS average_upper_salary\n",
    "                FROM employers e\n",
    "                    LEFT JOIN vacancies v ON e.id = v.employer_id\n",
    "                WHERE v.salary_to IS NOT NULL\n",
    "                GROUP BY e.name\n",
    "                ORDER BY AVG(v.salary_to) DESC\n",
    "                LIMIT 10\n",
    "             '''"
   ]
  },
  {
   "cell_type": "code",
   "execution_count": 41,
   "id": "a2ff566b",
   "metadata": {},
   "outputs": [
    {
     "data": {
      "text/html": [
       "<div>\n",
       "<style scoped>\n",
       "    .dataframe tbody tr th:only-of-type {\n",
       "        vertical-align: middle;\n",
       "    }\n",
       "\n",
       "    .dataframe tbody tr th {\n",
       "        vertical-align: top;\n",
       "    }\n",
       "\n",
       "    .dataframe thead th {\n",
       "        text-align: right;\n",
       "    }\n",
       "</style>\n",
       "<table border=\"1\" class=\"dataframe\">\n",
       "  <thead>\n",
       "    <tr style=\"text-align: right;\">\n",
       "      <th></th>\n",
       "      <th>employer</th>\n",
       "      <th>average_upper_salary</th>\n",
       "    </tr>\n",
       "  </thead>\n",
       "  <tbody>\n",
       "    <tr>\n",
       "      <th>0</th>\n",
       "      <td>ЦТП</td>\n",
       "      <td>950000.0</td>\n",
       "    </tr>\n",
       "    <tr>\n",
       "      <th>1</th>\n",
       "      <td>RuWork</td>\n",
       "      <td>935176.0</td>\n",
       "    </tr>\n",
       "    <tr>\n",
       "      <th>2</th>\n",
       "      <td>Агентство недвижимости ЛЕТО</td>\n",
       "      <td>750000.0</td>\n",
       "    </tr>\n",
       "    <tr>\n",
       "      <th>3</th>\n",
       "      <td>Петухова Алия</td>\n",
       "      <td>712200.0</td>\n",
       "    </tr>\n",
       "    <tr>\n",
       "      <th>4</th>\n",
       "      <td>Итон</td>\n",
       "      <td>700000.0</td>\n",
       "    </tr>\n",
       "    <tr>\n",
       "      <th>5</th>\n",
       "      <td>BeRecruited</td>\n",
       "      <td>600000.0</td>\n",
       "    </tr>\n",
       "    <tr>\n",
       "      <th>6</th>\n",
       "      <td>Шеф Маркет</td>\n",
       "      <td>600000.0</td>\n",
       "    </tr>\n",
       "    <tr>\n",
       "      <th>7</th>\n",
       "      <td>Пикабу</td>\n",
       "      <td>600000.0</td>\n",
       "    </tr>\n",
       "    <tr>\n",
       "      <th>8</th>\n",
       "      <td>ШтафунСофт</td>\n",
       "      <td>600000.0</td>\n",
       "    </tr>\n",
       "    <tr>\n",
       "      <th>9</th>\n",
       "      <td>BrainShells</td>\n",
       "      <td>584485.0</td>\n",
       "    </tr>\n",
       "  </tbody>\n",
       "</table>\n",
       "</div>"
      ],
      "text/plain": [
       "                      employer  average_upper_salary\n",
       "0                          ЦТП              950000.0\n",
       "1                       RuWork              935176.0\n",
       "2  Агентство недвижимости ЛЕТО              750000.0\n",
       "3                Петухова Алия              712200.0\n",
       "4                         Итон              700000.0\n",
       "5                  BeRecruited              600000.0\n",
       "6                   Шеф Маркет              600000.0\n",
       "7                       Пикабу              600000.0\n",
       "8                   ШтафунСофт              600000.0\n",
       "9                  BrainShells              584485.0"
      ]
     },
     "metadata": {},
     "output_type": "display_data"
    }
   ],
   "source": [
    "# результат запроса\n",
    "df_5_8 = pd_read_sql_query(query_5_8, connection)\n",
    "display(df_5_8)"
   ]
  },
  {
   "cell_type": "markdown",
   "id": "04966e40-3bc3-4dc8-9ba2-e80580ce3abc",
   "metadata": {
    "id": "04966e40-3bc3-4dc8-9ba2-e80580ce3abc"
   },
   "source": [
    "***"
   ]
  },
  {
   "cell_type": "markdown",
   "id": "cd91703b",
   "metadata": {
    "id": "aGGyER-yt4SR"
   },
   "source": [
    "#### Выводы по анализу работодателей\n",
    "\n",
    "1. Топ-5 работодателей по количеству вакансий: \"Яндекс\", \"Ростелеком\", \"Тинькофф\", \"СБЕР\", \"Газпром нефть\". Эти компании предоставляют большое количество вакансий и, вероятно, являются крупными игроками на рынке труда.\n",
    "\n",
    "2. Низкая активность в некоторых регионах: топ-5 регионов с наибольшим количеством работодателей, но без вакансий (Россия, Казахстан, Московская область, Краснодарский край, Беларусь), может свидетельствовать о низкой активности или конкретных условиях рынка труда в этих регионах. Возможно, в них есть определенные структурные особенности, которые препятствуют размещению вакансий.\n",
    "\n",
    "3. Лидеры по числу регионов, в которых публикуются вакансии: \"Яндекс\", \"Ростелеком\", \"Спецремонт\", \"Поляков Денис Иванович\", \"ООО ЕФИН\". Эти компании имеют наибольшее присутствие в различных регионах и, возможно, имеют широкий охват деятельности.\n",
    "\n",
    "4. У 8419 (36%) работодателей не указана сфера деятельности. Это может затруднить соискателям поиск вакансий, а также затруднить анализ рынка труда по определенным сферам деятельности.\n",
    "\n",
    "5. У большого количества работодателей указано от 1 до 5 сфер деятельности. Это может свидетельствовать о разнообразии вакансий и разнообразии требуемых навыков на рынке труда.\n",
    "\n",
    "6. 3553 (15%) работодателя указали \"Разработку программного обеспечения\" как сферу деятельности. Это может указывать на высокий спрос на IT-специалистов и связанных с ними вакансий.\n",
    "\n",
    "7. Компания \"Яндекс\" представлена во многих регионах-миллионниках, с общим количеством вакансий в этих регионах равным 485. Это может свидетельствовать о широкой географии деятельности этой компании.\n",
    "\n",
    "8. Процент вакансий, предлагаемых топ-5 работодателями по количеству вакансий, составляет примерно 11.3% от общего числа вакансий в базе данных. Это может указывать на значительное влияние этих компаний на рынок труда и предоставляемые ими возможности для соискателей.\n",
    "\n",
    "9. Топ-10 работодателей с самыми высокими предлагаемыми зарплатами не пресекается с топ-10 работодателей по количеству вакансий. Можно сделать вывод, что в более известные компании соискатели согласны приходить на меньшую зарплату. \n"
   ]
  },
  {
   "cell_type": "markdown",
   "id": "b1ef156a-efcb-49ce-bb23-90763e7f35b2",
   "metadata": {
    "id": "b1ef156a-efcb-49ce-bb23-90763e7f35b2",
    "tags": []
   },
   "source": [
    "# Юнит 6. Предметный анализ"
   ]
  },
  {
   "cell_type": "markdown",
   "id": "b9cd50a0-992d-4988-8463-2b2b1c4629b4",
   "metadata": {
    "id": "b9cd50a0-992d-4988-8463-2b2b1c4629b4"
   },
   "source": [
    "1. Сколько вакансий имеет отношение к данным?\n",
    "\n",
    "Считаем, что вакансия имеет отношение к данным, если в её названии содержатся слова 'data' или 'данн'.\n",
    "\n",
    "*Подсказка: Обратите внимание, что названия вакансий могут быть написаны в любом регистре.* \n"
   ]
  },
  {
   "cell_type": "code",
   "execution_count": 42,
   "id": "54ab0e50-c0f1-47cc-a54b-bc5c8bc363f9",
   "metadata": {
    "id": "54ab0e50-c0f1-47cc-a54b-bc5c8bc363f9"
   },
   "outputs": [],
   "source": [
    "# текст запроса\n",
    "query_6_1 = f'''\n",
    "                SELECT \n",
    "                    COUNT(v.id) cnt\n",
    "                FROM vacancies v\n",
    "                WHERE lower(v.name) LIKE '%data%' OR lower(v.name) LIKE '%данн%'\n",
    "             '''"
   ]
  },
  {
   "cell_type": "code",
   "execution_count": 43,
   "id": "9F1meAqsuUjd",
   "metadata": {
    "id": "9F1meAqsuUjd"
   },
   "outputs": [
    {
     "name": "stdout",
     "output_type": "stream",
     "text": [
      "Вакансий, имеющих отношение к данным: 1771\n"
     ]
    }
   ],
   "source": [
    "# результат запроса\n",
    "df_6_1 = pd_read_sql_query(query_6_1, connection)\n",
    "print('Вакансий, имеющих отношение к данным:', df_6_1.iloc[0, 0])\n"
   ]
  },
  {
   "cell_type": "markdown",
   "id": "4dea20cb-a36b-474a-a0b9-e08e8e3857a5",
   "metadata": {
    "id": "4dea20cb-a36b-474a-a0b9-e08e8e3857a5"
   },
   "source": [
    "2. Сколько есть подходящих вакансий для начинающего дата-сайентиста? \n",
    "Будем считать вакансиями для дата-сайентистов такие, в названии которых есть хотя бы одно из следующих сочетаний:\n",
    "* 'data scientist'\n",
    "* 'data science'\n",
    "* 'исследователь данных'\n",
    "* 'ML' (здесь не нужно брать вакансии по HTML)\n",
    "* 'machine learning'\n",
    "* 'машинн%обучен%'\n",
    "\n",
    "** В следующих заданиях мы продолжим работать с вакансиями по этому условию.*\n",
    "\n",
    "Считаем вакансиями для специалистов уровня Junior следующие:\n",
    "* в названии есть слово 'junior' *или*\n",
    "* требуемый опыт — Нет опыта *или*\n",
    "* тип трудоустройства — Стажировка.\n",
    " "
   ]
  },
  {
   "cell_type": "code",
   "execution_count": 44,
   "id": "9c61b3c0-bb66-46c9-ae1e-81d3f5752b4a",
   "metadata": {
    "id": "9c61b3c0-bb66-46c9-ae1e-81d3f5752b4a"
   },
   "outputs": [],
   "source": [
    "# текст запроса\n",
    "query_6_2_1 = f'''\n",
    "                SELECT \n",
    "                    COUNT(v.id) cnt\n",
    "                FROM vacancies v\n",
    "                WHERE (lower(v.name) LIKE '%data scientist%' \n",
    "                    OR lower(v.name) LIKE '%data science%'\n",
    "                    OR lower(v.name) LIKE '%исследователь данных%'\n",
    "                    OR lower(v.name) LIKE '%machine learning%'\n",
    "                    OR lower(v.name) LIKE '%машинн%обучен%'\n",
    "                    OR (v.name LIKE '%ML%' AND v.name NOT LIKE '%HTML%'))\n",
    "                    AND (lower(v.name) LIKE '%junior%' \n",
    "                       OR v.experience LIKE '%Нет опыта%'\n",
    "                       OR v.employment LIKE '%Стажировка%')\n",
    "            '''"
   ]
  },
  {
   "cell_type": "code",
   "execution_count": 45,
   "id": "ZNM-LLYuu1dj",
   "metadata": {
    "id": "ZNM-LLYuu1dj"
   },
   "outputs": [
    {
     "name": "stdout",
     "output_type": "stream",
     "text": [
      "Количество вакансий для начинающего дата-сайентиста: 51\n"
     ]
    }
   ],
   "source": [
    "# результат запроса\n",
    "df_6_2_1 = pd_read_sql_query(query_6_2_1, connection)\n",
    "print('Количество вакансий для начинающего дата-сайентиста:', df_6_2_1.iloc[0, 0])"
   ]
  },
  {
   "cell_type": "code",
   "execution_count": 46,
   "id": "6da174e6",
   "metadata": {},
   "outputs": [],
   "source": [
    "# Более лаконичный варинат текста запроса\n",
    "query_6_2_2 = f'''\n",
    "                  SELECT\n",
    "                      COUNT(v.id) cnt\n",
    "                  FROM vacancies v\n",
    "                  WHERE\n",
    "                  (name ILIKE ANY (ARRAY['%data scientist%',                       \n",
    "                                         '%data science%', \n",
    "                                         '%исследователь данных%', \n",
    "                                         '%machine learning%', \n",
    "                                         '%машинн%обучен%']) \n",
    "                   OR (v.name LIKE '%ML%' AND v.name NOT ILIKE '%HTML%'))\n",
    "                   AND (name ILIKE '%junior%' \n",
    "                    OR experience ILIKE '%Нет опыта%'\n",
    "                    OR employment ILIKE '%Стажировка%') \n",
    "               '''"
   ]
  },
  {
   "cell_type": "code",
   "execution_count": 47,
   "id": "951d64eb",
   "metadata": {},
   "outputs": [
    {
     "name": "stdout",
     "output_type": "stream",
     "text": [
      "Количество вакансий для начинающего дата-сайентиста: 51\n"
     ]
    }
   ],
   "source": [
    "# результат запроса\n",
    "df_6_2_2 = pd_read_sql_query(query_6_2_2, connection)\n",
    "print('Количество вакансий для начинающего дата-сайентиста:', df_6_2_2.iloc[0, 0])"
   ]
  },
  {
   "cell_type": "raw",
   "id": "927aee59",
   "metadata": {},
   "source": [
    "Вариант с синтаксисом как в notion:\n",
    "query_6_2_2 = f'''\n",
    "                  SELECT\n",
    "                      COUNT(v.id) cnt\n",
    "                  FROM vacancies v\n",
    "                  WHERE\n",
    "                  (name ILIKE ANY ('{ %data scientist%,                       \n",
    "                                      %data science%, \n",
    "                                      %исследователь данных%, \n",
    "                                      %machine learning%, \n",
    "                                      %машинн%обучен%}') \n",
    "                   OR (v.name LIKE '%ML%' AND v.name NOT ILIKE '%HTML%'))\n",
    "                   AND (name ILIKE '%junior%' \n",
    "                    OR experience ILIKE '%Нет опыта%'\n",
    "                    OR employment ILIKE '%Стажировка%') \n",
    "               '''    \n",
    "\n",
    "Работает только в metabase, в jupiter notebook вызывает ошибку:\n",
    "      Input In [42]\n",
    "    (name ILIKE ANY ('{ %data scientist%,\n",
    "    ^\n",
    "SyntaxError: f-string: invalid syntax"
   ]
  },
  {
   "cell_type": "markdown",
   "id": "eedceb80-c5ca-480e-b27a-278dfb8b4438",
   "metadata": {
    "id": "eedceb80-c5ca-480e-b27a-278dfb8b4438"
   },
   "source": [
    "3. Сколько есть вакансий для DS, в которых в качестве ключевого навыка указан SQL или postgres?\n",
    "\n",
    "** Критерии для отнесения вакансии к DS указаны в предыдущем задании.*"
   ]
  },
  {
   "cell_type": "code",
   "execution_count": 48,
   "id": "69621713-0cc5-4f1b-a1d7-bb144fa6148c",
   "metadata": {
    "id": "69621713-0cc5-4f1b-a1d7-bb144fa6148c"
   },
   "outputs": [],
   "source": [
    "# текст запроса\n",
    "query_6_3 = f'''\n",
    "                SELECT\n",
    "                    COUNT(v.id) cnt\n",
    "                FROM vacancies v\n",
    "                WHERE\n",
    "                (name ILIKE ANY (ARRAY['%data scientist%',                       \n",
    "                                       '%data science%', \n",
    "                                       '%исследователь данных%', \n",
    "                                       '%machine learning%', \n",
    "                                       '%машинн%обучен%']) \n",
    "                 OR (v.name LIKE '%ML%' AND v.name NOT ILIKE '%HTML%'))\n",
    "                 AND (v.key_skills ILIKE ANY (ARRAY['%SQL%', '%postgres%']))\n",
    "            '''"
   ]
  },
  {
   "cell_type": "code",
   "execution_count": 49,
   "id": "alA8WEAAvGdf",
   "metadata": {
    "id": "alA8WEAAvGdf"
   },
   "outputs": [
    {
     "name": "stdout",
     "output_type": "stream",
     "text": [
      "Количество вакансий для DS, в которых в качестве ключевого навыка указан SQL или postgres: 201\n"
     ]
    }
   ],
   "source": [
    "# результат запроса\n",
    "df_6_3 = pd_read_sql_query(query_6_3, connection)\n",
    "print('Количество вакансий для DS, в которых в качестве \\\n",
    "ключевого навыка указан SQL или postgres:', df_6_3.iloc[0, 0])"
   ]
  },
  {
   "cell_type": "markdown",
   "id": "1be1e9c6-37cf-4a5f-bfeb-04cab799dc80",
   "metadata": {
    "id": "1be1e9c6-37cf-4a5f-bfeb-04cab799dc80"
   },
   "source": [
    "4. Проверьте, насколько популярен Python в требованиях работодателей к DS.Для этого вычислите количество вакансий, в которых в качестве ключевого навыка указан Python.\n",
    "\n",
    "** Это можно сделать помощью запроса, аналогичного предыдущему.*"
   ]
  },
  {
   "cell_type": "code",
   "execution_count": 50,
   "id": "0036a355-9ccf-4564-8b01-73d8194297e7",
   "metadata": {
    "id": "0036a355-9ccf-4564-8b01-73d8194297e7"
   },
   "outputs": [],
   "source": [
    "# текст запроса\n",
    "query_6_4 = f'''\n",
    "                SELECT\n",
    "                    COUNT(v.id) cnt\n",
    "                FROM vacancies v\n",
    "                WHERE\n",
    "                (name ILIKE ANY (ARRAY['%data scientist%',                       \n",
    "                                       '%data science%', \n",
    "                                       '%исследователь данных%', \n",
    "                                       '%machine learning%', \n",
    "                                       '%машинн%обучен%']) \n",
    "                 OR (v.name LIKE '%ML%' AND v.name NOT ILIKE '%HTML%'))\n",
    "                 AND v.key_skills ILIKE '%Python%'\n",
    "            '''"
   ]
  },
  {
   "cell_type": "code",
   "execution_count": 51,
   "id": "1i-5WyucvQ6v",
   "metadata": {
    "id": "1i-5WyucvQ6v"
   },
   "outputs": [
    {
     "name": "stdout",
     "output_type": "stream",
     "text": [
      "Количество вакансий для DS, в которых в качестве ключевого навыка указан Python: 351\n"
     ]
    }
   ],
   "source": [
    "# результат запроса\n",
    "df_6_4 = pd_read_sql_query(query_6_4, connection)\n",
    "print('Количество вакансий для DS, в которых в качестве \\\n",
    "ключевого навыка указан Python:', df_6_4.iloc[0, 0])"
   ]
  },
  {
   "cell_type": "markdown",
   "id": "ec3c8db7-fa21-4a41-a994-1af63742a642",
   "metadata": {
    "id": "ec3c8db7-fa21-4a41-a994-1af63742a642"
   },
   "source": [
    "5. Сколько ключевых навыков в среднем указывают в вакансиях для DS?\n",
    "Ответ округлите до двух знаков после точки-разделителя."
   ]
  },
  {
   "cell_type": "code",
   "execution_count": 52,
   "id": "949132bc-d5b6-4611-8218-0b9a504d74f4",
   "metadata": {
    "id": "949132bc-d5b6-4611-8218-0b9a504d74f4"
   },
   "outputs": [],
   "source": [
    "# текст запроса\n",
    "query_6_5 = f'''\n",
    "                SELECT\n",
    "                    /*\n",
    "                    С помощью функции regexp_split_to_array преобразуем строку с навыками в массив строк, \n",
    "                    содержащий отдельные ключевые навыки.\n",
    "                    Затем, с помощью функции ARRAY_LENGTH(array, 1) получаем  длину массива и вычисляем \n",
    "                    среднее количество навыков.\n",
    "                    */\n",
    "                     ROUND(AVG(ARRAY_LENGTH(regexp_split_to_array(v.key_skills, '\\t'), 1)), 2) AS avg_skills\n",
    "                FROM vacancies v\n",
    "                WHERE (name ILIKE ANY (ARRAY['%data scientist%',                       \n",
    "                                             '%data science%', \n",
    "                                             '%исследователь данных%', \n",
    "                                             '%machine learning%', \n",
    "                                             '%машинн%обучен%']) \n",
    "                                   OR (v.name LIKE '%ML%' AND v.name NOT ILIKE '%HTML%'))\n",
    "            '''"
   ]
  },
  {
   "cell_type": "code",
   "execution_count": 53,
   "id": "a3V24Tvmviqk",
   "metadata": {
    "id": "a3V24Tvmviqk"
   },
   "outputs": [
    {
     "name": "stdout",
     "output_type": "stream",
     "text": [
      "Количество ключевых навыков в среднем в вакансиях для DS: 6.41\n"
     ]
    }
   ],
   "source": [
    "# результат запроса\n",
    "df_6_5 = pd_read_sql_query(query_6_5, connection)\n",
    "print('Количество ключевых навыков в среднем в вакансиях для DS:', df_6_5.iloc[0, 0])"
   ]
  },
  {
   "cell_type": "markdown",
   "id": "1041c17a-ca8f-4543-a0ca-32778914fb00",
   "metadata": {
    "id": "1041c17a-ca8f-4543-a0ca-32778914fb00"
   },
   "source": [
    "6. Напишите запрос, позволяющий вычислить, какую зарплату для DS в **среднем** указывают для каждого типа требуемого опыта (уникальное значение из поля *experience*). \n",
    "\n",
    "При решении задачи примите во внимание следующее:\n",
    "1. Рассматриваем только вакансии, у которых заполнено хотя бы одно из двух полей с зарплатой.\n",
    "2. Если заполнены оба поля с зарплатой, то считаем зарплату по каждой вакансии как сумму двух полей, делённую на 2. Если заполнено только одно из полей, то его и считаем зарплатой по вакансии.\n",
    "3. Если в расчётах участвует null, в результате он тоже даст null (посмотрите, что возвращает запрос select 1 + null). Чтобы избежать этой ситуацию, мы воспользуемся функцией [coalesce](https://postgrespro.ru/docs/postgresql/9.5/functions-conditional#functions-coalesce-nvl-ifnull), которая заменит null на значение, которое мы передадим. Например, посмотрите, что возвращает запрос `select 1 + coalesce(null, 0)`\n",
    "\n",
    "Выясните, на какую зарплату в среднем может рассчитывать дата-сайентист с опытом работы от 3 до 6 лет. Результат округлите до целого числа. "
   ]
  },
  {
   "cell_type": "code",
   "execution_count": 54,
   "id": "6a743d39-5204-48d3-8271-b9f88e68d40e",
   "metadata": {
    "id": "6a743d39-5204-48d3-8271-b9f88e68d40e"
   },
   "outputs": [],
   "source": [
    "# текст запроса\n",
    "query_6_6 = f'''\n",
    "                SELECT\n",
    "                    DISTINCT v.experience experience,          \n",
    "                    ROUND(AVG(coalesce((v.salary_from + v.salary_to)/2, salary_from, salary_to))) avg_salary\n",
    "                FROM vacancies v\n",
    "                WHERE (name ILIKE ANY (ARRAY['%data scientist%',                       \n",
    "                                             '%data science%', \n",
    "                                             '%исследователь данных%', \n",
    "                                             '%machine learning%', \n",
    "                                             '%машинн%обучен%']) \n",
    "                    OR (v.name LIKE '%ML%' AND v.name NOT ILIKE '%HTML%'))\n",
    "                    AND (v.salary_from IS NOT NULL OR v.salary_to IS NOT NULL)\n",
    "                GROUP BY experience\n",
    "            '''"
   ]
  },
  {
   "cell_type": "code",
   "execution_count": 55,
   "id": "aRIJ0mZEwU1_",
   "metadata": {
    "id": "aRIJ0mZEwU1_"
   },
   "outputs": [
    {
     "data": {
      "text/html": [
       "<div>\n",
       "<style scoped>\n",
       "    .dataframe tbody tr th:only-of-type {\n",
       "        vertical-align: middle;\n",
       "    }\n",
       "\n",
       "    .dataframe tbody tr th {\n",
       "        vertical-align: top;\n",
       "    }\n",
       "\n",
       "    .dataframe thead th {\n",
       "        text-align: right;\n",
       "    }\n",
       "</style>\n",
       "<table border=\"1\" class=\"dataframe\">\n",
       "  <thead>\n",
       "    <tr style=\"text-align: right;\">\n",
       "      <th></th>\n",
       "      <th>experience</th>\n",
       "      <th>avg_salary</th>\n",
       "    </tr>\n",
       "  </thead>\n",
       "  <tbody>\n",
       "    <tr>\n",
       "      <th>0</th>\n",
       "      <td>Нет опыта</td>\n",
       "      <td>74643.0</td>\n",
       "    </tr>\n",
       "    <tr>\n",
       "      <th>1</th>\n",
       "      <td>От 1 года до 3 лет</td>\n",
       "      <td>139675.0</td>\n",
       "    </tr>\n",
       "    <tr>\n",
       "      <th>2</th>\n",
       "      <td>От 3 до 6 лет</td>\n",
       "      <td>243115.0</td>\n",
       "    </tr>\n",
       "  </tbody>\n",
       "</table>\n",
       "</div>"
      ],
      "text/plain": [
       "           experience  avg_salary\n",
       "0           Нет опыта     74643.0\n",
       "1  От 1 года до 3 лет    139675.0\n",
       "2       От 3 до 6 лет    243115.0"
      ]
     },
     "metadata": {},
     "output_type": "display_data"
    },
    {
     "name": "stdout",
     "output_type": "stream",
     "text": [
      "Дата-сайентист с опытом работы от 3 до 6 лет может рассчитывать в среднем на зарплату: 243115.0\n"
     ]
    }
   ],
   "source": [
    "# результат запроса\n",
    "df_6_6 = pd_read_sql_query(query_6_6, connection)\n",
    "display(df_6_6)\n",
    "print('Дата-сайентист с опытом работы от 3 до 6 лет может \\\n",
    "рассчитывать в среднем на зарплату:', df_6_6.iloc[2, 1])"
   ]
  },
  {
   "cell_type": "markdown",
   "id": "252433b1",
   "metadata": {},
   "source": [
    "#### Дополнительное исследование"
   ]
  },
  {
   "cell_type": "markdown",
   "id": "c625a532",
   "metadata": {},
   "source": [
    "7. Как распределены вакансии для дата-сайентистов по различным регионам? Какой регион предлагает наибольшее количество вакансий? Напишите SQL-запрос, который вернет количество вакансий для каждого региона."
   ]
  },
  {
   "cell_type": "code",
   "execution_count": 56,
   "id": "e6da5642",
   "metadata": {},
   "outputs": [],
   "source": [
    "# текст запроса\n",
    "query_6_7 = f'''\n",
    "                SELECT\n",
    "                    a.name AS region,\n",
    "                    COUNT(v.id) AS cnt\n",
    "                FROM vacancies v\n",
    "                    LEFT JOIN areas a ON v.area_id = a.id\n",
    "                WHERE (v.name ILIKE ANY (ARRAY['%data scientist%',                       \n",
    "                                               '%data science%', \n",
    "                                               '%исследователь данных%', \n",
    "                                               '%machine learning%', \n",
    "                                               '%машинн%обучен%']) \n",
    "                     OR (v.name LIKE '%ML%' AND v.name NOT ILIKE '%HTML%'))\n",
    "                GROUP BY a.name\n",
    "                ORDER BY cnt DESC\n",
    "                LIMIT 10\n",
    "            '''"
   ]
  },
  {
   "cell_type": "code",
   "execution_count": 57,
   "id": "119836cd",
   "metadata": {},
   "outputs": [
    {
     "data": {
      "text/html": [
       "<div>\n",
       "<style scoped>\n",
       "    .dataframe tbody tr th:only-of-type {\n",
       "        vertical-align: middle;\n",
       "    }\n",
       "\n",
       "    .dataframe tbody tr th {\n",
       "        vertical-align: top;\n",
       "    }\n",
       "\n",
       "    .dataframe thead th {\n",
       "        text-align: right;\n",
       "    }\n",
       "</style>\n",
       "<table border=\"1\" class=\"dataframe\">\n",
       "  <thead>\n",
       "    <tr style=\"text-align: right;\">\n",
       "      <th></th>\n",
       "      <th>region</th>\n",
       "      <th>cnt</th>\n",
       "    </tr>\n",
       "  </thead>\n",
       "  <tbody>\n",
       "    <tr>\n",
       "      <th>0</th>\n",
       "      <td>Москва</td>\n",
       "      <td>217</td>\n",
       "    </tr>\n",
       "    <tr>\n",
       "      <th>1</th>\n",
       "      <td>Санкт-Петербург</td>\n",
       "      <td>64</td>\n",
       "    </tr>\n",
       "    <tr>\n",
       "      <th>2</th>\n",
       "      <td>Новосибирск</td>\n",
       "      <td>23</td>\n",
       "    </tr>\n",
       "    <tr>\n",
       "      <th>3</th>\n",
       "      <td>Нижний Новгород</td>\n",
       "      <td>20</td>\n",
       "    </tr>\n",
       "    <tr>\n",
       "      <th>4</th>\n",
       "      <td>Казань</td>\n",
       "      <td>16</td>\n",
       "    </tr>\n",
       "    <tr>\n",
       "      <th>5</th>\n",
       "      <td>Алматы</td>\n",
       "      <td>16</td>\n",
       "    </tr>\n",
       "    <tr>\n",
       "      <th>6</th>\n",
       "      <td>Минск</td>\n",
       "      <td>9</td>\n",
       "    </tr>\n",
       "    <tr>\n",
       "      <th>7</th>\n",
       "      <td>Томск</td>\n",
       "      <td>8</td>\n",
       "    </tr>\n",
       "    <tr>\n",
       "      <th>8</th>\n",
       "      <td>Екатеринбург</td>\n",
       "      <td>7</td>\n",
       "    </tr>\n",
       "    <tr>\n",
       "      <th>9</th>\n",
       "      <td>Армения</td>\n",
       "      <td>6</td>\n",
       "    </tr>\n",
       "  </tbody>\n",
       "</table>\n",
       "</div>"
      ],
      "text/plain": [
       "            region  cnt\n",
       "0           Москва  217\n",
       "1  Санкт-Петербург   64\n",
       "2      Новосибирск   23\n",
       "3  Нижний Новгород   20\n",
       "4           Казань   16\n",
       "5           Алматы   16\n",
       "6            Минск    9\n",
       "7            Томск    8\n",
       "8     Екатеринбург    7\n",
       "9          Армения    6"
      ]
     },
     "metadata": {},
     "output_type": "display_data"
    }
   ],
   "source": [
    "# результат запроса \n",
    "df_6_7 = pd_read_sql_query(query_6_7, connection)\n",
    "\n",
    "#количество вакансий для дата-сайентистов в различных регионах\n",
    "display(df_6_7)"
   ]
  },
  {
   "cell_type": "markdown",
   "id": "c492bb33",
   "metadata": {},
   "source": [
    "8. Какие сферы деятельности (industries) наиболее популярны среди работодателей, ищущих дата-сайентистов? Какое количество вакансий предлагается для каждой сферы деятельности? Напишите SQL-запрос, который вернет список сфер деятельности и количество вакансий для каждой из них, отсортированных по убыванию количества вакансий.\n"
   ]
  },
  {
   "cell_type": "code",
   "execution_count": 58,
   "id": "8271ee23",
   "metadata": {},
   "outputs": [],
   "source": [
    "# текст запроса\n",
    "query_6_8 = f'''\n",
    "                SELECT\n",
    "                    i.name AS industry,\n",
    "                    COUNT(v.id) AS cnt\n",
    "                FROM vacancies v\n",
    "                    LEFT JOIN employers_industries ei ON v.employer_id = ei.employer_id\n",
    "                    LEFT JOIN industries i ON ei.industry_id = i.id\n",
    "                WHERE (v.name ILIKE ANY (ARRAY['%data scientist%',                       \n",
    "                                               '%data science%', \n",
    "                                               '%исследователь данных%', \n",
    "                                               '%machine learning%', \n",
    "                                               '%машинн%обучен%']) \n",
    "                     OR (v.name LIKE '%ML%' AND v.name NOT ILIKE '%HTML%'))\n",
    "                GROUP BY i.name\n",
    "                ORDER BY cnt DESC\n",
    "                LIMIT 10\n",
    "            '''"
   ]
  },
  {
   "cell_type": "code",
   "execution_count": 59,
   "id": "b99019f2",
   "metadata": {},
   "outputs": [
    {
     "data": {
      "text/html": [
       "<div>\n",
       "<style scoped>\n",
       "    .dataframe tbody tr th:only-of-type {\n",
       "        vertical-align: middle;\n",
       "    }\n",
       "\n",
       "    .dataframe tbody tr th {\n",
       "        vertical-align: top;\n",
       "    }\n",
       "\n",
       "    .dataframe thead th {\n",
       "        text-align: right;\n",
       "    }\n",
       "</style>\n",
       "<table border=\"1\" class=\"dataframe\">\n",
       "  <thead>\n",
       "    <tr style=\"text-align: right;\">\n",
       "      <th></th>\n",
       "      <th>industry</th>\n",
       "      <th>cnt</th>\n",
       "    </tr>\n",
       "  </thead>\n",
       "  <tbody>\n",
       "    <tr>\n",
       "      <th>0</th>\n",
       "      <td>Разработка программного обеспечения</td>\n",
       "      <td>148</td>\n",
       "    </tr>\n",
       "    <tr>\n",
       "      <th>1</th>\n",
       "      <td>Системная интеграция,  автоматизации технологи...</td>\n",
       "      <td>139</td>\n",
       "    </tr>\n",
       "    <tr>\n",
       "      <th>2</th>\n",
       "      <td>Банк</td>\n",
       "      <td>92</td>\n",
       "    </tr>\n",
       "    <tr>\n",
       "      <th>3</th>\n",
       "      <td>Интернет-компания (поисковики, платежные систе...</td>\n",
       "      <td>79</td>\n",
       "    </tr>\n",
       "    <tr>\n",
       "      <th>4</th>\n",
       "      <td>None</td>\n",
       "      <td>62</td>\n",
       "    </tr>\n",
       "    <tr>\n",
       "      <th>5</th>\n",
       "      <td>Мобильная связь</td>\n",
       "      <td>23</td>\n",
       "    </tr>\n",
       "    <tr>\n",
       "      <th>6</th>\n",
       "      <td>Маркетинговые, рекламные, BTL, дизайнерские, E...</td>\n",
       "      <td>22</td>\n",
       "    </tr>\n",
       "    <tr>\n",
       "      <th>7</th>\n",
       "      <td>Управляющая, инвестиционная компания (управлен...</td>\n",
       "      <td>21</td>\n",
       "    </tr>\n",
       "    <tr>\n",
       "      <th>8</th>\n",
       "      <td>Консалтинговые услуги</td>\n",
       "      <td>16</td>\n",
       "    </tr>\n",
       "    <tr>\n",
       "      <th>9</th>\n",
       "      <td>Фиксированная связь</td>\n",
       "      <td>13</td>\n",
       "    </tr>\n",
       "  </tbody>\n",
       "</table>\n",
       "</div>"
      ],
      "text/plain": [
       "                                            industry  cnt\n",
       "0                Разработка программного обеспечения  148\n",
       "1  Системная интеграция,  автоматизации технологи...  139\n",
       "2                                               Банк   92\n",
       "3  Интернет-компания (поисковики, платежные систе...   79\n",
       "4                                               None   62\n",
       "5                                    Мобильная связь   23\n",
       "6  Маркетинговые, рекламные, BTL, дизайнерские, E...   22\n",
       "7  Управляющая, инвестиционная компания (управлен...   21\n",
       "8                              Консалтинговые услуги   16\n",
       "9                                Фиксированная связь   13"
      ]
     },
     "metadata": {},
     "output_type": "display_data"
    }
   ],
   "source": [
    "# результат запроса \n",
    "df_6_8 = pd_read_sql_query(query_6_8, connection)\n",
    "\n",
    "# список сфер деятельности и количество вакансий для каждой из них\n",
    "display(df_6_8)"
   ]
  },
  {
   "cell_type": "markdown",
   "id": "5f2794d9",
   "metadata": {},
   "source": [
    "9. Сколько вакансий для дата-сайентистов требуют знание английского языка (ключевой навык или требование в описании)?\n"
   ]
  },
  {
   "cell_type": "code",
   "execution_count": 60,
   "id": "eb3e32d7",
   "metadata": {},
   "outputs": [],
   "source": [
    "# текст запроса\n",
    "query_6_9 = f'''\n",
    "                SELECT \n",
    "                    COUNT(DISTINCT v.id) AS num_vacancies\n",
    "                FROM vacancies v\n",
    "                WHERE (v.name ILIKE ANY (ARRAY['%data scientist%',                       \n",
    "                                               '%data science%', \n",
    "                                               '%исследователь данных%', \n",
    "                                               '%machine learning%', \n",
    "                                               '%машинн%обучен%']) \n",
    "                     OR (v.name LIKE '%ML%' AND v.name NOT ILIKE '%HTML%'))\n",
    "                     AND (v.key_skills ILIKE '%английск%' OR v.name ILIKE '%английск%')\n",
    "            '''"
   ]
  },
  {
   "cell_type": "code",
   "execution_count": 61,
   "id": "5262a773",
   "metadata": {},
   "outputs": [
    {
     "name": "stdout",
     "output_type": "stream",
     "text": [
      "Количество вакансий для дата-сайентистов, в которых требуется знание английского языка: 48\n"
     ]
    }
   ],
   "source": [
    "# результат запроса\n",
    "df_6_9 = pd_read_sql_query(query_6_9, connection)\n",
    "print('Количество вакансий для дата-сайентистов, в которых \\\n",
    "требуется знание английского языка:', df_6_9.iloc[0, 0])"
   ]
  },
  {
   "cell_type": "markdown",
   "id": "6a7892b4-4113-4746-adce-18aa2844f18e",
   "metadata": {
    "id": "6a7892b4-4113-4746-adce-18aa2844f18e"
   },
   "source": [
    "***"
   ]
  },
  {
   "cell_type": "markdown",
   "id": "8363ef67",
   "metadata": {
    "id": "UjLWUptVwY1o"
   },
   "source": [
    "#### Выводы по предметному анализу\n",
    "\n",
    "1. Востребованность. Вакансий, связанных с данными, в целом достаточно много 1771 вакансия (3.6% от всего количества вакансий). Это свидетельствует о высокой востребованности специалистов в данной области.\n",
    "\n",
    "2. Уровень входа. Вакансий для начинающих дата-сайентистов относительно немного (51 вакансия), что может означать, что рынок предпочитает специалистов с опытом работы и новичкам найти работу будет нелегко из-за высокой конкуренции. \n",
    "\n",
    "3. Требования к навыкам. В ключевых навыках наиболее популярны Python (351 вакансия) и SQL (201 вакансия) . Это подтверждает важность данных языков программирования для работы с данными и анализа.\n",
    "\n",
    "4. Уровень навыков: В среднем в вакансиях указывают около 6.41 ключевого навыка, что говорит о высоких требованиях работодателей к компетенциям дата-сайентистов.\n",
    "\n",
    "5. Зарплата: Средняя зарплата для дата-сайентистов с опытом работы от 3 до 6 лет составляет около 243115 рублей. Это значительно выше средней зарплата для всех вакансий в базе данных - 89074 рублей. В вакансиях с опытом более 6 лет не указывают уровень зарплат. \n",
    "\n",
    "6. Большинство вакансий сосредоточено в городах-миллиониках (лидеры Москва, Санкт-Петербург)\n",
    "\n",
    "7. Сферы деятельности: Наиболее популярными сферами деятельности, ищущими дата-сайентистов, являются Разработка ПО, банковская сфера, системная интеграция и автоматизация, связь, интернет-компании, инвестиции, консалтинг.  У некторых копаний сфера деятельности не указана - 5 место. \n",
    "\n",
    "8. Количество вакансий, где требуется знание английского около 3%. \n"
   ]
  },
  {
   "cell_type": "code",
   "execution_count": 62,
   "id": "a2b1178d",
   "metadata": {},
   "outputs": [],
   "source": [
    "# Закрываем соединение\n",
    "connection.close()"
   ]
  },
  {
   "cell_type": "markdown",
   "id": "c0ED6fh7wiBT",
   "metadata": {
    "id": "c0ED6fh7wiBT"
   },
   "source": [
    "# Общий вывод по проекту"
   ]
  },
  {
   "cell_type": "markdown",
   "id": "abbc099d",
   "metadata": {
    "id": "h9B3BL-wwj18"
   },
   "source": [
    "Рынок труда в области дата-сайенса является активным, существует значительное количество вакансий для специалистов этой области, что свидетельствует о их высокой востребованности на рынке.\n",
    "\n",
    "Наличие знания английского языка востребовано, но требования к нему не являются обязательными для большинства вакансий, что может быть важной информацией для соискателей.\n",
    "\n",
    "Требования к навыкам дата-сайентистов высоки, в среднем в вакансиях указывается около 6 ключевых навыков.\n",
    "\n",
    "Уровень опыта играет важную роль в требованиях к соискателям. Вакансии для начинающих дата-сайентистов составляют небольшую часть, а средние уровни опыта (от 3 до 6 лет) наиболее популярны.\n",
    "\n",
    "Средняя зарплата для дата-сайентистов с опытом работы от 3 до 6 лет является привлекательной и значительно выше средней зарплаты по всем вакансиям.\n",
    "\n",
    "Некоторые известные компании активно представлены на рынке труда с большим количеством вакансий, их присутствие может оказывать сильное влияние на рынок.\n",
    "\n",
    "Города-миллионники являются основными регионами с высокой активностью вакансий.\n",
    "\n",
    "Некоторые сферы деятельности показывают более высокую активность и востребованность специалистов дата-сайенса.\n",
    "\n",
    "В целом, рынок труда для дата-сайентистов представляет собой перспективную область с высоким уровнем востребованности и привлекательными зарплатами, особенно для специалистов с опытом работы от 3 до 6 лет. Знание английского языка может быть дополнительным преимуществом для соискателей. Также рекомендуется активно изучать и развивать ключевые навыки, востребованные на рынке труда, чтобы быть более конкурентоспособными на этом растущем рынке."
   ]
  }
 ],
 "metadata": {
  "colab": {
   "collapsed_sections": [
    "8d62a9f3-f64e-4fe7-bdac-c4dffa16155e"
   ],
   "provenance": []
  },
  "kernelspec": {
   "display_name": "Python 3 (ipykernel)",
   "language": "python",
   "name": "python3"
  },
  "language_info": {
   "codemirror_mode": {
    "name": "ipython",
    "version": 3
   },
   "file_extension": ".py",
   "mimetype": "text/x-python",
   "name": "python",
   "nbconvert_exporter": "python",
   "pygments_lexer": "ipython3",
   "version": "3.9.12"
  }
 },
 "nbformat": 4,
 "nbformat_minor": 5
}
