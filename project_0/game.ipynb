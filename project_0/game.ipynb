{
 "cells": [
  {
   "cell_type": "markdown",
   "metadata": {},
   "source": [
    "# Игра угадай число"
   ]
  },
  {
   "attachments": {},
   "cell_type": "markdown",
   "metadata": {},
   "source": [
    "## Условия соревнования\n",
    "- Компьютер загадывает целое число от 1 до 100, и нам его нужно угадать. Под «угадать», подразумевается «написать программу, которая угадывает число».    \n",
    "- Алгоритм учитывает информацию о том, больше ли случайное число или меньше нужного нам.\n",
    "- Необходимо добиться того, чтобы программа угадывала число меньше, чем за 20 попыток. \n"
   ]
  },
  {
   "cell_type": "code",
   "execution_count": 1,
   "metadata": {},
   "outputs": [],
   "source": [
    "# Импортируем созданную ранее мини-библиотеку\n",
    "from game_v2 import score_game\n",
    "from game_v2 import random_predict\n",
    "\n",
    "# Импортируем библиотеку, которая нам пригодится для генерации случайных чисел\n",
    "import numpy as np"
   ]
  },
  {
   "attachments": {},
   "cell_type": "markdown",
   "metadata": {},
   "source": [
    "В baseline есть два простейших подхода к решению этой задачи"
   ]
  },
  {
   "attachments": {},
   "cell_type": "markdown",
   "metadata": {},
   "source": [
    "## Подход 1: Случайное угадывание"
   ]
  },
  {
   "attachments": {},
   "cell_type": "markdown",
   "metadata": {},
   "source": [
    "Простейший способ решения: научить программу случайным образом выбирать число до тех пор, пока оно не будет угадано. Этот способ не дает хорошего результата, однако будет для нас хорошей стартовой точкой."
   ]
  },
  {
   "cell_type": "code",
   "execution_count": 2,
   "metadata": {},
   "outputs": [
    {
     "name": "stdout",
     "output_type": "stream",
     "text": [
      "Количество попыток, за которое алгоритм в среднем угадывает число:101\n"
     ]
    }
   ],
   "source": [
    "score_game(random_predict)"
   ]
  },
  {
   "attachments": {},
   "cell_type": "markdown",
   "metadata": {},
   "source": [
    "## Подход 2: Угадывание с коррекцией"
   ]
  },
  {
   "attachments": {},
   "cell_type": "markdown",
   "metadata": {},
   "source": [
    "Сначала устанавливаем любое случайное число, а потом уменьшаем или увеличиваем его в зависимости от того, больше оно или меньше нужного."
   ]
  },
  {
   "cell_type": "code",
   "execution_count": 3,
   "metadata": {},
   "outputs": [],
   "source": [
    "def game_core_v2(number: int = 1) -> int:\n",
    "    \"\"\"Сначала устанавливаем любое random число, а потом уменьшаем\n",
    "    или увеличиваем его в зависимости от того, больше оно или меньше нужного.\n",
    "       Функция принимает загаданное число и возвращает число попыток\n",
    "       \n",
    "    Args:\n",
    "        number (int, optional): Загаданное число. Defaults to 1.\n",
    "\n",
    "    Returns:\n",
    "        int: Число попыток\n",
    "    \"\"\"\n",
    "    count = 0\n",
    "    predict = np.random.randint(1, 101)\n",
    "    \n",
    "    while number != predict:\n",
    "        count += 1\n",
    "        if number > predict:\n",
    "            predict += 1\n",
    "        elif number < predict:\n",
    "            predict -= 1\n",
    "\n",
    "    return count"
   ]
  },
  {
   "cell_type": "code",
   "execution_count": 4,
   "metadata": {},
   "outputs": [
    {
     "name": "stdout",
     "output_type": "stream",
     "text": [
      "Количество попыток, за которое алгоритм в среднем угадывает число:32\n"
     ]
    }
   ],
   "source": [
    "score_game(game_core_v2)"
   ]
  },
  {
   "attachments": {},
   "cell_type": "markdown",
   "metadata": {},
   "source": [
    "## Оценка работы алгоритмов\n",
    "Определяем, какой подход лучше. "
   ]
  },
  {
   "cell_type": "code",
   "execution_count": 5,
   "metadata": {},
   "outputs": [
    {
     "name": "stdout",
     "output_type": "stream",
     "text": [
      "Запуск бенчмарка для random_predict: Количество попыток, за которое алгоритм в среднем угадывает число:101\n",
      "\n",
      "Запуск бенчмарка для game_core_v2: Количество попыток, за которое алгоритм в среднем угадывает число:32\n"
     ]
    }
   ],
   "source": [
    "# Запускаем бенчмарк, чтобы оценить эффективность всех алгоритмов\n",
    "\n",
    "print('Запуск бенчмарка для random_predict: ', end='')\n",
    "score_game(random_predict)\n",
    "print('')\n",
    "print('Запуск бенчмарка для game_core_v2: ', end='')\n",
    "score_game(game_core_v2)"
   ]
  },
  {
   "attachments": {},
   "cell_type": "markdown",
   "metadata": {},
   "source": [
    "Как мы видим, две предложенные программы показывают не лучший результат.\n",
    "Теперь вы попробуете решить эту задачу и найти более обтимальный алгоритм."
   ]
  },
  {
   "attachments": {},
   "cell_type": "markdown",
   "metadata": {},
   "source": [
    "## Подход 3: "
   ]
  },
  {
   "cell_type": "markdown",
   "metadata": {},
   "source": [
    "Оптимизируем процесс \"угадывания\" с помощью бинарного поиска"
   ]
  },
  {
   "cell_type": "code",
   "execution_count": 6,
   "metadata": {},
   "outputs": [],
   "source": [
    "def game_core_v3(number: int = 1) -> int:\n",
    "    \"\"\"\n",
    "    Args:\n",
    "        number (int, optional): Загаданное число. Defaults to 1.\n",
    "\n",
    "    Returns:\n",
    "        int: Число попыток\n",
    "    \"\"\"\n",
    "       \n",
    "    '''\n",
    "    Начинаем угадывать с середины заданного диапазона, \n",
    "    далее делим диапазон пополам и ищем в левой части, \n",
    "    если загаданное число меньше и в правой - если больше\n",
    "    '''\n",
    "    \n",
    "    count = 1\n",
    "    left = 1 # Левая \n",
    "    right = 101 # и правая границы диапазона поиска\n",
    "    predict = (left+right) // 2 # Начинаем угадывать с середины диапазона \n",
    "    \n",
    "    while number != predict:\n",
    "        count+=1\n",
    "        if number > predict: \n",
    "            # print (f\"Угадываемое число {number} больше {predict} \")\n",
    "            # Если убрать комментарий выше, то увидим как идет поиск\n",
    "            \n",
    "            left = predict # Сдвигаем левую границу \n",
    "            predict = (left+right) // 2\n",
    "            \n",
    "        elif number < predict: \n",
    "            # print (f\"Угадываемое число {number} меньше {predict} \")\n",
    "            # Если убрать комментарий выше, то увидим как идет поиск\n",
    "            \n",
    "            right = predict # Сдвигаем правую границу\n",
    "            predict = (left+right) // 2\n",
    "\n",
    "\n",
    "    return count"
   ]
  },
  {
   "attachments": {},
   "cell_type": "markdown",
   "metadata": {},
   "source": [
    "Оценим качество вашего алгоритма:"
   ]
  },
  {
   "cell_type": "code",
   "execution_count": 7,
   "metadata": {},
   "outputs": [
    {
     "name": "stdout",
     "output_type": "stream",
     "text": [
      "Запуск бенчмарка для game_core_v3: Количество попыток, за которое алгоритм в среднем угадывает число:5\n"
     ]
    }
   ],
   "source": [
    "print('Запуск бенчмарка для game_core_v3: ', end='')\n",
    "score_game(game_core_v3)"
   ]
  },
  {
   "attachments": {},
   "cell_type": "markdown",
   "metadata": {},
   "source": [
    "Как видим, процесс \"угадывания\" бинарным поиском происходит быстрее в 6 раз, по сравнению со вторым подходом (\"угадывание\" с коррекцией) и в 20 раз быстрее, чем первый подход (\"угадывание\" случайным образом)"
   ]
  }
 ],
 "metadata": {
  "kernelspec": {
   "display_name": "Python 3",
   "language": "python",
   "name": "python3"
  },
  "language_info": {
   "codemirror_mode": {
    "name": "ipython",
    "version": 3
   },
   "file_extension": ".py",
   "mimetype": "text/x-python",
   "name": "python",
   "nbconvert_exporter": "python",
   "pygments_lexer": "ipython3",
   "version": "3.11.2"
  },
  "orig_nbformat": 4,
  "vscode": {
   "interpreter": {
    "hash": "ebfc0a8d552866b0d59eba665220a57de3bc06f3ac643b8bef38dd8f66781fdd"
   }
  }
 },
 "nbformat": 4,
 "nbformat_minor": 2
}
